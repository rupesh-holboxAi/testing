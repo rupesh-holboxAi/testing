{
 "cells": [
  {
   "cell_type": "code",
   "execution_count": 1,
   "metadata": {},
   "outputs": [],
   "source": [
    "import requests\n",
    "from requests_oauthlib import OAuth1\n",
    "\n",
    "auth = OAuth1(\"FD0A617EAD11499C97C806F06FB4CBCD\", \"B091220B9B5342A78D592E991C41322A\", \"AAA4E5969A3A450F978A9192A3C96C04\", \"BCC0C30CD7144713B83F10CA24AB58BC\")\n",
    "\n",
    "def fetch_bricklink_inventory():\n",
    "    url = \"https://api.bricklink.com/api/store/v1/inventories\"\n",
    "    response = requests.get(url, auth=auth)\n",
    "    if response.status_code == 200:\n",
    "        return response.json()['data']\n",
    "    else:\n",
    "        print(f\"Error: {response.status_code}\")\n",
    "        return None\n"
   ]
  },
  {
   "cell_type": "code",
   "execution_count": 2,
   "metadata": {},
   "outputs": [
    {
     "name": "stdout",
     "output_type": "stream",
     "text": [
      "Total Quantity: 2472\n"
     ]
    }
   ],
   "source": [
    "lots=fetch_bricklink_inventory()\n",
    "\n",
    "len(lots)\n",
    "\n",
    "total_quantity = sum(item[\"quantity\"] for item in lots)\n",
    "\n",
    "print(f\"Total Quantity: {total_quantity}\")"
   ]
  },
  {
   "cell_type": "code",
   "execution_count": 3,
   "metadata": {},
   "outputs": [],
   "source": [
    "def fetch_brickowl_inventory(api_key=\"8245b56a4db48751882052166a763cdc617a532de0fab7c8f2521fc376de5b7d\"):\n",
    "    url = f\"https://api.brickowl.com/v1/inventory/list?key={api_key}\"\n",
    "    response = requests.get(url)\n",
    "    if response.status_code == 200:\n",
    "        return response.json()\n",
    "    else:\n",
    "        print(f\"Error: {response.status_code}, {response.text}\")\n",
    "        return None\n"
   ]
  },
  {
   "cell_type": "code",
   "execution_count": 4,
   "metadata": {},
   "outputs": [],
   "source": [
    "def reconcile_inventory(bricklink_data, brickowl_data, PRIMARY_STORE=\"BrickLink\"):\n",
    "    reconciled = []\n",
    "\n",
    "    # Build a mapping from inventory_id to item in BrickLink\n",
    "    bricklink_items = {}\n",
    "    for item in bricklink_data:\n",
    "        inventory_id = item['inventory_id']\n",
    "        bricklink_items[inventory_id] = item\n",
    "\n",
    "    # Build a mapping from external_lot_ids to item in BrickOwl\n",
    "    brickowl_items = {}\n",
    "    for item in brickowl_data:\n",
    "        external_ids = item.get('external_lot_ids', {})\n",
    "        other_id = external_ids.get('other')\n",
    "        if other_id:\n",
    "            try:\n",
    "                other_id_int = int(other_id)\n",
    "                brickowl_items[other_id_int] = item\n",
    "            except ValueError:\n",
    "                pass  # Skip if 'other_id' is not a valid integer\n",
    "\n",
    "    # Now compare items based on inventory_id\n",
    "    all_inventory_ids = set(bricklink_items.keys()).union(set(brickowl_items.keys()))\n",
    "\n",
    "    for inventory_id in all_inventory_ids:\n",
    "        bricklink_item = bricklink_items.get(inventory_id)\n",
    "        brickowl_item = brickowl_items.get(inventory_id)\n",
    "\n",
    "        bricklink_qty = bricklink_item['quantity'] if bricklink_item else 0\n",
    "        brickowl_qty = int(brickowl_item['qty']) if brickowl_item else 0\n",
    "\n",
    "        if bricklink_qty != brickowl_qty:\n",
    "            # Determine which platform needs to be updated\n",
    "            if PRIMARY_STORE == \"BrickLink\":\n",
    "                final_quantity = bricklink_qty\n",
    "                platform_to_update = \"BrickOwl\"\n",
    "            else:\n",
    "                final_quantity = brickowl_qty\n",
    "                platform_to_update = \"BrickLink\"\n",
    "\n",
    "            reconciled.append({\n",
    "                'inventory_id': inventory_id,\n",
    "                'sku': bricklink_item['item']['no'] if bricklink_item else brickowl_item.get('ids', [{}])[0].get('id'),\n",
    "                'color_id': bricklink_item['color_id'] if bricklink_item else None,\n",
    "                'final_quantity': final_quantity,\n",
    "                'platform_to_update': platform_to_update,\n",
    "                'bricklink_quantity': bricklink_qty,\n",
    "                'brickowl_quantity': brickowl_qty,\n",
    "            })\n",
    "\n",
    "    return reconciled\n"
   ]
  },
  {
   "cell_type": "code",
   "execution_count": 13,
   "metadata": {},
   "outputs": [
    {
     "name": "stdout",
     "output_type": "stream",
     "text": [
      "[{'inventory_id': 443460971, 'sku': '55706', 'color_id': 2, 'final_quantity': 15, 'platform_to_update': 'BrickOwl', 'bricklink_quantity': 15, 'brickowl_quantity': 0}, {'inventory_id': 443692804, 'sku': '1183-1', 'color_id': 0, 'final_quantity': 50, 'platform_to_update': 'BrickOwl', 'bricklink_quantity': 50, 'brickowl_quantity': 0}]\n"
     ]
    }
   ],
   "source": [
    "reconcile=reconcile_inventory(fetch_bricklink_inventory(),fetch_brickowl_inventory())\n",
    "\n",
    "\n",
    "print(reconcile)"
   ]
  },
  {
   "cell_type": "code",
   "execution_count": 14,
   "metadata": {},
   "outputs": [
    {
     "data": {
      "text/plain": [
       "2"
      ]
     },
     "execution_count": 14,
     "metadata": {},
     "output_type": "execute_result"
    }
   ],
   "source": [
    "len(reconcile)\n",
    "# reconcile"
   ]
  },
  {
   "cell_type": "code",
   "execution_count": 7,
   "metadata": {},
   "outputs": [],
   "source": [
    "def update_brickowl_item(lot_id, updates):\n",
    "    url = 'https://api.brickowl.com/v1/inventory/update'\n",
    "    params = {\n",
    "        'key': \"8245b56a4db48751882052166a763cdc617a532de0fab7c8f2521fc376de5b7d\",\n",
    "        'lot_id': lot_id,\n",
    "        **updates\n",
    "    }\n",
    "    try:\n",
    "        print(params)\n",
    "        response = requests.post(url, params=params)\n",
    "        print(response)\n",
    "        response.raise_for_status()  # Raises HTTPError for bad responses\n",
    "        data = response.json()\n",
    "        if data.get('status') == 'success':\n",
    "            print(f\"BrickOwl item {lot_id} updated successfully.\")\n",
    "            return True\n",
    "        else:\n",
    "            print(f\"BrickOwl API error for lot {lot_id}: {data}\")\n",
    "            return False\n",
    "    except requests.exceptions.HTTPError as http_err:\n",
    "        print(f\"HTTP error occurred for BrickOwl lot {lot_id}: {http_err}\")\n",
    "        return False\n",
    "    except Exception as err:\n",
    "        print(f\"An error occurred for BrickOwl lot {lot_id}: {err}\")\n",
    "        return False\n"
   ]
  },
  {
   "cell_type": "code",
   "execution_count": 8,
   "metadata": {},
   "outputs": [],
   "source": [
    "def update_bricklink_item(inventory_id, updates):\n",
    "    url = f'https://api.bricklink.com/api/store/v1/inventories/{inventory_id}'\n",
    "    headers = {'Content-Type': 'application/json'}\n",
    "    try:\n",
    "        # response = oauth_session.put(url, json=updates, headers=headers)\n",
    "        response = requests.put(url, json=updates, auth=auth)\n",
    "        if response.status_code == 204:\n",
    "            print(f\"BrickLink item {inventory_id} updated successfully.\")\n",
    "            return True\n",
    "        else:\n",
    "            print(f\"BrickLink API error for inventory {inventory_id}: {response.status_code}, {response.text}\")\n",
    "            return False\n",
    "    except Exception as err:\n",
    "        print(f\"An error occurred for BrickLink inventory {inventory_id}: {err}\")\n",
    "        return False"
   ]
  },
  {
   "cell_type": "code",
   "execution_count": 9,
   "metadata": {},
   "outputs": [],
   "source": [
    "# Synchronize inventories based on the reconciled data\n",
    "def synchronize_inventories(reconciled_data):\n",
    "    for discrepancy in reconciled_data:\n",
    "        inventory_id = discrepancy['inventory_id']\n",
    "        sku = discrepancy['sku']\n",
    "        color_id = discrepancy['color_id']\n",
    "        final_quantity = discrepancy['final_quantity']\n",
    "        platform_to_update = discrepancy['platform_to_update']\n",
    "        bricklink_quantity = discrepancy['bricklink_quantity']\n",
    "        brickowl_quantity = discrepancy['brickowl_quantity']\n",
    "\n",
    "        if platform_to_update == 'BrickOwl':\n",
    "            # Update BrickOwl\n",
    "            lot_id = inventory_id\n",
    "            updates = {\n",
    "                'absolute_quantity': final_quantity,\n",
    "            }\n",
    "            success = update_brickowl_item( lot_id, updates)\n",
    "            if not success:\n",
    "                print(f\"Failed to update BrickOwl item with lot_id {lot_id}\")\n",
    "        elif platform_to_update == 'BrickLink':\n",
    "            # Update BrickLink\n",
    "            updates = {\n",
    "                'quantity': final_quantity,\n",
    "            }\n",
    "            success = update_bricklink_item( inventory_id, updates)\n",
    "            if not success:\n",
    "                print(f\"Failed to update BrickLink item with inventory_id {inventory_id}\")\n",
    "        else:\n",
    "            print(f\"Unknown platform to update: {platform_to_update}\")"
   ]
  },
  {
   "cell_type": "code",
   "execution_count": 15,
   "metadata": {},
   "outputs": [
    {
     "name": "stdout",
     "output_type": "stream",
     "text": [
      "HTTP error occurred for BrickOwl lot 443460971: 403 Client Error: Forbidden for url: https://api.brickowl.com/v1/inventory/update?key=8245b56a4db48751882052166a763cdc617a532de0fab7c8f2521fc376de5b7d&lot_id=443460971&absolute_quantity=15\n",
      "Failed to update BrickOwl item with lot_id 443460971\n",
      "HTTP error occurred for BrickOwl lot 443692804: 403 Client Error: Forbidden for url: https://api.brickowl.com/v1/inventory/update?key=8245b56a4db48751882052166a763cdc617a532de0fab7c8f2521fc376de5b7d&lot_id=443692804&absolute_quantity=50\n",
      "Failed to update BrickOwl item with lot_id 443692804\n"
     ]
    }
   ],
   "source": [
    "synchronize_inventories(reconcile)"
   ]
  },
  {
   "cell_type": "code",
   "execution_count": null,
   "metadata": {},
   "outputs": [],
   "source": []
  },
  {
   "cell_type": "code",
   "execution_count": null,
   "metadata": {},
   "outputs": [],
   "source": []
  },
  {
   "cell_type": "code",
   "execution_count": null,
   "metadata": {},
   "outputs": [],
   "source": []
  },
  {
   "cell_type": "code",
   "execution_count": null,
   "metadata": {},
   "outputs": [],
   "source": []
  },
  {
   "cell_type": "code",
   "execution_count": null,
   "metadata": {},
   "outputs": [],
   "source": []
  },
  {
   "cell_type": "code",
   "execution_count": null,
   "metadata": {},
   "outputs": [],
   "source": []
  },
  {
   "cell_type": "code",
   "execution_count": 5,
   "metadata": {},
   "outputs": [],
   "source": [
    "def update_bricklink_inventory(sku, quantity):\n",
    "    url = f\"https://api.bricklink.com/api/store/v1/inventories/{sku}\"\n",
    "    payload = {\"quantity\": quantity}\n",
    "    response = requests.put(url, json=payload, auth=auth)\n",
    "    if response.status_code == 200:\n",
    "        print(f\"Updated BrickLink inventory for {sku}\")\n",
    "    else:\n",
    "        print(f\"Error updating BrickLink inventory for {sku}\")\n"
   ]
  },
  {
   "cell_type": "code",
   "execution_count": 6,
   "metadata": {},
   "outputs": [],
   "source": [
    "def update_brickowl_inventory(api_key, sku, quantity):\n",
    "    url = f\"https://www.brickowl.com/api/inventory-update?apiKey={api_key}&sku={sku}&quantity={quantity}\"\n",
    "    response = requests.post(url)\n",
    "    if response.status_code == 200:\n",
    "        print(f\"Updated Brick Owl inventory for {sku}\")\n",
    "    else:\n",
    "        print(f\"Error updating Brick Owl inventory for {sku}\")\n"
   ]
  },
  {
   "cell_type": "code",
   "execution_count": null,
   "metadata": {},
   "outputs": [],
   "source": [
    "from apscheduler.schedulers.background import BackgroundScheduler\n",
    "\n",
    "scheduler = BackgroundScheduler()\n",
    "\n",
    "def sync_job():\n",
    "    bricklink_data = fetch_bricklink_inventory()\n",
    "    brickowl_data = fetch_brickowl_inventory(\"8245b56a4db48751882052166a763cdc617a532de0fab7c8f2521fc376de5b7d\")\n",
    "    if bricklink_data and brickowl_data:\n",
    "        discrepancies = reconcile_inventory(bricklink_data, brickowl_data)\n",
    "        print(discrepancies)\n",
    "        for item in discrepancies:\n",
    "            print(item)\n",
    "            update_bricklink_inventory(item['sku'], item['brickowl_qty'])\n",
    "            print(\"success\")\n",
    "            update_brickowl_inventory(\"8245b56a4db48751882052166a763cdc617a532de0fab7c8f2521fc376de5b7d\", item['sku'], item['brickowl_qty'])\n",
    "\n",
    "scheduler.add_job(sync_job, 'interval', minutes=10)\n",
    "scheduler.start()\n"
   ]
  },
  {
   "cell_type": "code",
   "execution_count": 12,
   "metadata": {},
   "outputs": [
    {
     "name": "stdout",
     "output_type": "stream",
     "text": [
      "1st\n",
      "[{'inventory_id': 440956339, 'item': {'no': '2420', 'name': 'Plate 2 x 2 Corner', 'type': 'PART', 'category_id': 26}, 'color_id': 48, 'color_name': 'Sand Green', 'quantity': 20, 'new_or_used': 'N', 'unit_price': '0.1600', 'bind_id': 0, 'description': 'Good Condition', 'remarks': '76154', 'bulk': 1, 'is_retain': True, 'is_stock_room': False, 'date_created': '2024-11-09T05:00:00.000Z', 'my_cost': '0.0000', 'sale_rate': -500, 'tier_quantity1': 0, 'tier_price1': '0.0000', 'tier_quantity2': 0, 'tier_price2': '0.0000', 'tier_quantity3': 0, 'tier_price3': '0.0000', 'my_weight': '0.0000'}, {'inventory_id': 440956297, 'item': {'no': '3020', 'name': 'Plate 2 x 4', 'type': 'PART', 'category_id': 26}, 'color_id': 7, 'color_name': 'Blue', 'quantity': 20, 'new_or_used': 'N', 'unit_price': '0.0600', 'bind_id': 0, 'description': 'Good Condition', 'remarks': '76154', 'bulk': 1, 'is_retain': True, 'is_stock_room': False, 'date_created': '2024-11-09T05:00:00.000Z', 'my_cost': '0.0000', 'sale_rate': -500, 'tier_quantity1': 0, 'tier_price1': '0.0000', 'tier_quantity2': 0, 'tier_price2': '0.0000', 'tier_quantity3': 0, 'tier_price3': '0.0000', 'my_weight': '0.0000'}, {'inventory_id': 440956300, 'item': {'no': '3020', 'name': 'Plate 2 x 4', 'type': 'PART', 'category_id': 26}, 'color_id': 63, 'color_name': 'Dark Blue', 'quantity': 30, 'new_or_used': 'N', 'unit_price': '0.0600', 'bind_id': 0, 'description': 'Good Condition', 'remarks': '76154', 'bulk': 1, 'is_retain': True, 'is_stock_room': False, 'date_created': '2024-11-09T05:00:00.000Z', 'my_cost': '0.0000', 'sale_rate': -500, 'tier_quantity1': 0, 'tier_price1': '0.0000', 'tier_quantity2': 0, 'tier_price2': '0.0000', 'tier_quantity3': 0, 'tier_price3': '0.0000', 'my_weight': '0.0000'}, {'inventory_id': 440956138, 'item': {'no': '3020', 'name': 'Plate 2 x 4', 'type': 'PART', 'category_id': 26}, 'color_id': 85, 'color_name': 'Dark Bluish Gray', 'quantity': 8, 'new_or_used': 'N', 'unit_price': '0.0800', 'bind_id': 0, 'description': 'Good Condition', 'remarks': '76111', 'bulk': 1, 'is_retain': True, 'is_stock_room': False, 'date_created': '2024-11-09T05:00:00.000Z', 'my_cost': '0.0000', 'sale_rate': -500, 'tier_quantity1': 0, 'tier_price1': '0.0000', 'tier_quantity2': 0, 'tier_price2': '0.0000', 'tier_quantity3': 0, 'tier_price3': '0.0000', 'my_weight': '0.0000'}, {'inventory_id': 440956179, 'item': {'no': '3021', 'name': 'Plate 2 x 3', 'type': 'PART', 'category_id': 26}, 'color_id': 2, 'color_name': 'Tan', 'quantity': 2, 'new_or_used': 'N', 'unit_price': '0.0500', 'bind_id': 0, 'description': 'Good Condition', 'remarks': '76111', 'bulk': 1, 'is_retain': True, 'is_stock_room': False, 'date_created': '2024-11-09T05:00:00.000Z', 'my_cost': '0.0000', 'sale_rate': -500, 'tier_quantity1': 0, 'tier_price1': '0.0000', 'tier_quantity2': 0, 'tier_price2': '0.0000', 'tier_quantity3': 0, 'tier_price3': '0.0000', 'my_weight': '0.0000'}, {'inventory_id': 440956116, 'item': {'no': '3021', 'name': 'Plate 2 x 3', 'type': 'PART', 'category_id': 26}, 'color_id': 11, 'color_name': 'Black', 'quantity': 12, 'new_or_used': 'N', 'unit_price': '0.0700', 'bind_id': 0, 'description': 'Good Condition', 'remarks': '76111', 'bulk': 1, 'is_retain': True, 'is_stock_room': False, 'date_created': '2024-11-09T05:00:00.000Z', 'my_cost': '0.0000', 'sale_rate': -500, 'tier_quantity1': 0, 'tier_price1': '0.0000', 'tier_quantity2': 0, 'tier_price2': '0.0000', 'tier_quantity3': 0, 'tier_price3': '0.0000', 'my_weight': '0.0000'}, {'inventory_id': 440956344, 'item': {'no': '3023', 'name': 'Plate 1 x 2', 'type': 'PART', 'category_id': 26}, 'color_id': 3, 'color_name': 'Yellow', 'quantity': 40, 'new_or_used': 'N', 'unit_price': '0.0400', 'bind_id': 0, 'description': 'Good Condition', 'remarks': '76154', 'bulk': 1, 'is_retain': True, 'is_stock_room': False, 'date_created': '2024-11-09T05:00:00.000Z', 'my_cost': '0.0000', 'sale_rate': -500, 'tier_quantity1': 0, 'tier_price1': '0.0000', 'tier_quantity2': 0, 'tier_price2': '0.0000', 'tier_quantity3': 0, 'tier_price3': '0.0000', 'my_weight': '0.0000'}, {'inventory_id': 440956115, 'item': {'no': '3023', 'name': 'Plate 1 x 2', 'type': 'PART', 'category_id': 26}, 'color_id': 11, 'color_name': 'Black', 'quantity': 6, 'new_or_used': 'N', 'unit_price': '0.0500', 'bind_id': 0, 'description': 'Good Condition', 'remarks': '76111', 'bulk': 1, 'is_retain': True, 'is_stock_room': False, 'date_created': '2024-11-09T05:00:00.000Z', 'my_cost': '0.0000', 'sale_rate': -500, 'tier_quantity1': 0, 'tier_price1': '0.0000', 'tier_quantity2': 0, 'tier_price2': '0.0000', 'tier_quantity3': 0, 'tier_price3': '0.0000', 'my_weight': '0.0000'}, {'inventory_id': 440956184, 'item': {'no': '3023', 'name': 'Plate 1 x 2', 'type': 'PART', 'category_id': 26}, 'color_id': 12, 'color_name': 'Trans-Clear', 'quantity': 7, 'new_or_used': 'N', 'unit_price': '0.1200', 'bind_id': 0, 'description': 'Good Condition', 'remarks': '76111', 'bulk': 1, 'is_retain': True, 'is_stock_room': False, 'date_created': '2024-11-09T05:00:00.000Z', 'my_cost': '0.0000', 'sale_rate': -500, 'tier_quantity1': 0, 'tier_price1': '0.0000', 'tier_quantity2': 0, 'tier_price2': '0.0000', 'tier_quantity3': 0, 'tier_price3': '0.0000', 'my_weight': '0.0000'}, {'inventory_id': 440956191, 'item': {'no': '3023', 'name': 'Plate 1 x 2', 'type': 'PART', 'category_id': 26}, 'color_id': 19, 'color_name': 'Trans-Yellow', 'quantity': 5, 'new_or_used': 'N', 'unit_price': '0.0600', 'bind_id': 0, 'description': 'Good Condition', 'remarks': '76111', 'bulk': 1, 'is_retain': True, 'is_stock_room': False, 'date_created': '2024-11-09T05:00:00.000Z', 'my_cost': '0.0000', 'sale_rate': -500, 'tier_quantity1': 0, 'tier_price1': '0.0000', 'tier_quantity2': 0, 'tier_price2': '0.0000', 'tier_quantity3': 0, 'tier_price3': '0.0000', 'my_weight': '0.0000'}, {'inventory_id': 440956325, 'item': {'no': '3023', 'name': 'Plate 1 x 2', 'type': 'PART', 'category_id': 26}, 'color_id': 39, 'color_name': 'Dark Turquoise', 'quantity': 20, 'new_or_used': 'N', 'unit_price': '0.0500', 'bind_id': 0, 'description': 'Good Condition', 'remarks': '76154', 'bulk': 1, 'is_retain': True, 'is_stock_room': False, 'date_created': '2024-11-09T05:00:00.000Z', 'my_cost': '0.0000', 'sale_rate': -500, 'tier_quantity1': 0, 'tier_price1': '0.0000', 'tier_quantity2': 0, 'tier_price2': '0.0000', 'tier_quantity3': 0, 'tier_price3': '0.0000', 'my_weight': '0.0000'}, {'inventory_id': 440956137, 'item': {'no': '3023', 'name': 'Plate 1 x 2', 'type': 'PART', 'category_id': 26}, 'color_id': 85, 'color_name': 'Dark Bluish Gray', 'quantity': 9, 'new_or_used': 'N', 'unit_price': '0.0600', 'bind_id': 0, 'description': 'Good Condition', 'remarks': '76111', 'bulk': 1, 'is_retain': True, 'is_stock_room': False, 'date_created': '2024-11-09T05:00:00.000Z', 'my_cost': '0.0000', 'sale_rate': -500, 'tier_quantity1': 0, 'tier_price1': '0.0000', 'tier_quantity2': 0, 'tier_price2': '0.0000', 'tier_quantity3': 0, 'tier_price3': '0.0000', 'my_weight': '0.0000'}, {'inventory_id': 440956134, 'item': {'no': '3023', 'name': 'Plate 1 x 2', 'type': 'PART', 'category_id': 26}, 'color_id': 110, 'color_name': 'Bright Light Orange', 'quantity': 4, 'new_or_used': 'N', 'unit_price': '0.0600', 'bind_id': 0, 'description': 'Good Condition', 'remarks': '76111', 'bulk': 1, 'is_retain': True, 'is_stock_room': False, 'date_created': '2024-11-09T05:00:00.000Z', 'my_cost': '0.0000', 'sale_rate': -500, 'tier_quantity1': 0, 'tier_price1': '0.0000', 'tier_quantity2': 0, 'tier_price2': '0.0000', 'tier_quantity3': 0, 'tier_price3': '0.0000', 'my_weight': '0.0000'}, {'inventory_id': 440956299, 'item': {'no': '3024', 'name': 'Plate 1 x 1', 'type': 'PART', 'category_id': 26}, 'color_id': 63, 'color_name': 'Dark Blue', 'quantity': 30, 'new_or_used': 'N', 'unit_price': '0.0500', 'bind_id': 0, 'description': 'Good Condition', 'remarks': '76154', 'bulk': 1, 'is_retain': True, 'is_stock_room': False, 'date_created': '2024-11-09T05:00:00.000Z', 'my_cost': '0.0000', 'sale_rate': -500, 'tier_quantity1': 0, 'tier_price1': '0.0000', 'tier_quantity2': 0, 'tier_price2': '0.0000', 'tier_quantity3': 0, 'tier_price3': '0.0000', 'my_weight': '0.0000'}, {'inventory_id': 440956136, 'item': {'no': '3024', 'name': 'Plate 1 x 1', 'type': 'PART', 'category_id': 26}, 'color_id': 85, 'color_name': 'Dark Bluish Gray', 'quantity': 3, 'new_or_used': 'N', 'unit_price': '0.0600', 'bind_id': 0, 'description': 'Good Condition', 'remarks': '76111', 'bulk': 1, 'is_retain': True, 'is_stock_room': False, 'date_created': '2024-11-09T05:00:00.000Z', 'my_cost': '0.0000', 'sale_rate': -500, 'tier_quantity1': 0, 'tier_price1': '0.0000', 'tier_quantity2': 0, 'tier_price2': '0.0000', 'tier_quantity3': 0, 'tier_price3': '0.0000', 'my_weight': '0.0000'}, {'inventory_id': 440956301, 'item': {'no': '3034', 'name': 'Plate 2 x 8', 'type': 'PART', 'category_id': 26}, 'color_id': 63, 'color_name': 'Dark Blue', 'quantity': 20, 'new_or_used': 'N', 'unit_price': '0.1800', 'bind_id': 0, 'description': 'Good Condition', 'remarks': '76154', 'bulk': 1, 'is_retain': True, 'is_stock_room': False, 'date_created': '2024-11-09T05:00:00.000Z', 'my_cost': '0.0000', 'sale_rate': -500, 'tier_quantity1': 0, 'tier_price1': '0.0000', 'tier_quantity2': 0, 'tier_price2': '0.0000', 'tier_quantity3': 0, 'tier_price3': '0.0000', 'my_weight': '0.0000'}, {'inventory_id': 440956193, 'item': {'no': '3039', 'name': 'Slope 45 2 x 2', 'type': 'PART', 'category_id': 31}, 'color_id': 3, 'color_name': 'Yellow', 'quantity': 1, 'new_or_used': 'N', 'unit_price': '0.0400', 'bind_id': 0, 'description': 'Good Condition', 'remarks': '76111', 'bulk': 1, 'is_retain': True, 'is_stock_room': False, 'date_created': '2024-11-09T05:00:00.000Z', 'my_cost': '0.0000', 'sale_rate': -500, 'tier_quantity1': 0, 'tier_price1': '0.0000', 'tier_quantity2': 0, 'tier_price2': '0.0000', 'tier_quantity3': 0, 'tier_price3': '0.0000', 'my_weight': '0.0000'}, {'inventory_id': 440956165, 'item': {'no': '3062', 'name': 'Brick, Round  1 x 1', 'type': 'PART', 'category_id': 8}, 'color_id': 86, 'color_name': 'Light Bluish Gray', 'quantity': 4, 'new_or_used': 'N', 'unit_price': '0.0600', 'bind_id': 0, 'description': 'Good Condition', 'remarks': '76111', 'bulk': 1, 'is_retain': True, 'is_stock_room': False, 'date_created': '2024-11-09T05:00:00.000Z', 'my_cost': '0.0000', 'sale_rate': -500, 'tier_quantity1': 0, 'tier_price1': '0.0000', 'tier_quantity2': 0, 'tier_price2': '0.0000', 'tier_quantity3': 0, 'tier_price3': '0.0000', 'my_weight': '0.0000'}, {'inventory_id': 440956127, 'item': {'no': '32014', 'name': 'Technic, Axle and Pin Connector Angled #6 - 90 degrees', 'type': 'PART', 'category_id': 133}, 'color_id': 11, 'color_name': 'Black', 'quantity': 1, 'new_or_used': 'N', 'unit_price': '0.1700', 'bind_id': 0, 'description': 'Good Condition', 'remarks': '76111', 'bulk': 1, 'is_retain': True, 'is_stock_room': False, 'date_created': '2024-11-09T05:00:00.000Z', 'my_cost': '0.0000', 'sale_rate': -500, 'tier_quantity1': 0, 'tier_price1': '0.0000', 'tier_quantity2': 0, 'tier_price2': '0.0000', 'tier_quantity3': 0, 'tier_price3': '0.0000', 'my_weight': '0.0000'}, {'inventory_id': 440956169, 'item': {'no': '32028', 'name': 'Plate, Modified 1 x 2 with Door Rail', 'type': 'PART', 'category_id': 27}, 'color_id': 86, 'color_name': 'Light Bluish Gray', 'quantity': 4, 'new_or_used': 'N', 'unit_price': '0.0700', 'bind_id': 0, 'description': 'Good Condition', 'remarks': '76111', 'bulk': 1, 'is_retain': True, 'is_stock_room': False, 'date_created': '2024-11-09T05:00:00.000Z', 'my_cost': '0.0000', 'sale_rate': -500, 'tier_quantity1': 0, 'tier_price1': '0.0000', 'tier_quantity2': 0, 'tier_price2': '0.0000', 'tier_quantity3': 0, 'tier_price3': '0.0000', 'my_weight': '0.0000'}, {'inventory_id': 440956324, 'item': {'no': '32059', 'name': 'Wedge, Plate 4 x 6 Cut Corners', 'type': 'PART', 'category_id': 583}, 'color_id': 59, 'color_name': 'Dark Red', 'quantity': 10, 'new_or_used': 'N', 'unit_price': '0.1500', 'bind_id': 0, 'description': 'Good Condition', 'remarks': '76154', 'bulk': 1, 'is_retain': True, 'is_stock_room': False, 'date_created': '2024-11-09T05:00:00.000Z', 'my_cost': '0.0000', 'sale_rate': -500, 'tier_quantity1': 0, 'tier_price1': '0.0000', 'tier_quantity2': 0, 'tier_price2': '0.0000', 'tier_quantity3': 0, 'tier_price3': '0.0000', 'my_weight': '0.0000'}, {'inventory_id': 440956126, 'item': {'no': '3300', 'name': 'Slope 33 2 x 2 Double', 'type': 'PART', 'category_id': 31}, 'color_id': 11, 'color_name': 'Black', 'quantity': 2, 'new_or_used': 'N', 'unit_price': '0.3400', 'bind_id': 0, 'description': 'Good Condition', 'remarks': '76111', 'bulk': 1, 'is_retain': True, 'is_stock_room': False, 'date_created': '2024-11-09T05:00:00.000Z', 'my_cost': '0.0000', 'sale_rate': -500, 'tier_quantity1': 0, 'tier_price1': '0.0000', 'tier_quantity2': 0, 'tier_price2': '0.0000', 'tier_quantity3': 0, 'tier_price3': '0.0000', 'my_weight': '0.0000'}, {'inventory_id': 440956178, 'item': {'no': '3460', 'name': 'Plate 1 x 8', 'type': 'PART', 'category_id': 26}, 'color_id': 2, 'color_name': 'Tan', 'quantity': 4, 'new_or_used': 'N', 'unit_price': '0.1300', 'bind_id': 0, 'description': 'Good Condition', 'remarks': '76111', 'bulk': 1, 'is_retain': True, 'is_stock_room': False, 'date_created': '2024-11-09T05:00:00.000Z', 'my_cost': '0.0000', 'sale_rate': -500, 'tier_quantity1': 0, 'tier_price1': '0.0000', 'tier_quantity2': 0, 'tier_price2': '0.0000', 'tier_quantity3': 0, 'tier_price3': '0.0000', 'my_weight': '0.0000'}, {'inventory_id': 440956326, 'item': {'no': '3460', 'name': 'Plate 1 x 8', 'type': 'PART', 'category_id': 26}, 'color_id': 39, 'color_name': 'Dark Turquoise', 'quantity': 10, 'new_or_used': 'N', 'unit_price': '0.1200', 'bind_id': 0, 'description': 'Good Condition', 'remarks': '76154', 'bulk': 1, 'is_retain': True, 'is_stock_room': False, 'date_created': '2024-11-09T05:00:00.000Z', 'my_cost': '0.0000', 'sale_rate': -500, 'tier_quantity1': 0, 'tier_price1': '0.0000', 'tier_quantity2': 0, 'tier_price2': '0.0000', 'tier_quantity3': 0, 'tier_price3': '0.0000', 'my_weight': '0.0000'}, {'inventory_id': 440956182, 'item': {'no': '3700', 'name': 'Technic, Brick 1 x 2 with Hole', 'type': 'PART', 'category_id': 135}, 'color_id': 2, 'color_name': 'Tan', 'quantity': 2, 'new_or_used': 'N', 'unit_price': '0.0500', 'bind_id': 0, 'description': 'Good Condition', 'remarks': '76111', 'bulk': 1, 'is_retain': True, 'is_stock_room': False, 'date_created': '2024-11-09T05:00:00.000Z', 'my_cost': '0.0000', 'sale_rate': -500, 'tier_quantity1': 0, 'tier_price1': '0.0000', 'tier_quantity2': 0, 'tier_price2': '0.0000', 'tier_quantity3': 0, 'tier_price3': '0.0000', 'my_weight': '0.0000'}, {'inventory_id': 440956154, 'item': {'no': '3710', 'name': 'Plate 1 x 4', 'type': 'PART', 'category_id': 26}, 'color_id': 69, 'color_name': 'Dark Tan', 'quantity': 1, 'new_or_used': 'N', 'unit_price': '0.0700', 'bind_id': 0, 'description': 'Good Condition', 'remarks': '76111', 'bulk': 1, 'is_retain': True, 'is_stock_room': False, 'date_created': '2024-11-09T05:00:00.000Z', 'my_cost': '0.0000', 'sale_rate': -500, 'tier_quantity1': 0, 'tier_price1': '0.0000', 'tier_quantity2': 0, 'tier_price2': '0.0000', 'tier_quantity3': 0, 'tier_price3': '0.0000', 'my_weight': '0.0000'}, {'inventory_id': 440956327, 'item': {'no': '3832', 'name': 'Plate 2 x 10', 'type': 'PART', 'category_id': 26}, 'color_id': 39, 'color_name': 'Dark Turquoise', 'quantity': 10, 'new_or_used': 'N', 'unit_price': '0.1500', 'bind_id': 0, 'description': 'Good Condition', 'remarks': '76154', 'bulk': 1, 'is_retain': True, 'is_stock_room': False, 'date_created': '2024-11-09T05:00:00.000Z', 'my_cost': '0.0000', 'sale_rate': -500, 'tier_quantity1': 0, 'tier_price1': '0.0000', 'tier_quantity2': 0, 'tier_price2': '0.0000', 'tier_quantity3': 0, 'tier_price3': '0.0000', 'my_weight': '0.0000'}, {'inventory_id': 440956328, 'item': {'no': '4032', 'name': 'Plate, Round 2 x 2 with Axle Hole', 'type': 'PART', 'category_id': 28}, 'color_id': 39, 'color_name': 'Dark Turquoise', 'quantity': 50, 'new_or_used': 'N', 'unit_price': '0.0400', 'bind_id': 0, 'description': 'Good Condition', 'remarks': '76154', 'bulk': 1, 'is_retain': True, 'is_stock_room': False, 'date_created': '2024-11-09T05:00:00.000Z', 'my_cost': '0.0000', 'sale_rate': -500, 'tier_quantity1': 0, 'tier_price1': '0.0000', 'tier_quantity2': 0, 'tier_price2': '0.0000', 'tier_quantity3': 0, 'tier_price3': '0.0000', 'my_weight': '0.0000'}, {'inventory_id': 440956110, 'item': {'no': '4070', 'name': 'Brick, Modified 1 x 1 with Headlight', 'type': 'PART', 'category_id': 7}, 'color_id': 11, 'color_name': 'Black', 'quantity': 4, 'new_or_used': 'N', 'unit_price': '0.1200', 'bind_id': 0, 'description': 'Good Condition', 'remarks': '76111', 'bulk': 1, 'is_retain': True, 'is_stock_room': False, 'date_created': '2024-11-09T05:00:00.000Z', 'my_cost': '0.0000', 'sale_rate': -500, 'tier_quantity1': 0, 'tier_price1': '0.0000', 'tier_quantity2': 0, 'tier_price2': '0.0000', 'tier_quantity3': 0, 'tier_price3': '0.0000', 'my_weight': '0.0000'}, {'inventory_id': 440956188, 'item': {'no': '4073', 'name': 'Plate, Round 1 x 1', 'type': 'PART', 'category_id': 28}, 'color_id': 17, 'color_name': 'Trans-Red', 'quantity': 3, 'new_or_used': 'N', 'unit_price': '0.0200', 'bind_id': 0, 'description': 'Good Condition', 'remarks': '76111', 'bulk': 1, 'is_retain': True, 'is_stock_room': False, 'date_created': '2024-11-09T05:00:00.000Z', 'my_cost': '0.0000', 'sale_rate': -500, 'tier_quantity1': 0, 'tier_price1': '0.0000', 'tier_quantity2': 0, 'tier_price2': '0.0000', 'tier_quantity3': 0, 'tier_price3': '0.0000', 'my_weight': '0.0000'}, {'inventory_id': 440956302, 'item': {'no': '4073', 'name': 'Plate, Round 1 x 1', 'type': 'PART', 'category_id': 28}, 'color_id': 63, 'color_name': 'Dark Blue', 'quantity': 50, 'new_or_used': 'N', 'unit_price': '0.0700', 'bind_id': 0, 'description': 'Good Condition', 'remarks': '76154', 'bulk': 1, 'is_retain': True, 'is_stock_room': False, 'date_created': '2024-11-09T05:00:00.000Z', 'my_cost': '0.0000', 'sale_rate': -500, 'tier_quantity1': 0, 'tier_price1': '0.0000', 'tier_quantity2': 0, 'tier_price2': '0.0000', 'tier_quantity3': 0, 'tier_price3': '0.0000', 'my_weight': '0.0000'}, {'inventory_id': 440956158, 'item': {'no': '4073', 'name': 'Plate, Round 1 x 1', 'type': 'PART', 'category_id': 28}, 'color_id': 95, 'color_name': 'Flat Silver', 'quantity': 9, 'new_or_used': 'N', 'unit_price': '0.0300', 'bind_id': 0, 'description': 'Good Condition', 'remarks': '76111', 'bulk': 1, 'is_retain': True, 'is_stock_room': False, 'date_created': '2024-11-09T05:00:00.000Z', 'my_cost': '0.0000', 'sale_rate': -500, 'tier_quantity1': 0, 'tier_price1': '0.0000', 'tier_quantity2': 0, 'tier_price2': '0.0000', 'tier_quantity3': 0, 'tier_price3': '0.0000', 'my_weight': '0.0000'}, {'inventory_id': 440956186, 'item': {'no': '4073', 'name': 'Plate, Round 1 x 1', 'type': 'PART', 'category_id': 28}, 'color_id': 98, 'color_name': 'Trans-Orange', 'quantity': 3, 'new_or_used': 'N', 'unit_price': '0.0300', 'bind_id': 0, 'description': 'Good Condition', 'remarks': '76111', 'bulk': 1, 'is_retain': True, 'is_stock_room': False, 'date_created': '2024-11-09T05:00:00.000Z', 'my_cost': '0.0000', 'sale_rate': -500, 'tier_quantity1': 0, 'tier_price1': '0.0000', 'tier_quantity2': 0, 'tier_price2': '0.0000', 'tier_quantity3': 0, 'tier_price3': '0.0000', 'my_weight': '0.0000'}, {'inventory_id': 440956334, 'item': {'no': '4274', 'name': 'Technic, Pin 1/2 without Friction Ridges', 'type': 'PART', 'category_id': 139}, 'color_id': 86, 'color_name': 'Light Bluish Gray', 'quantity': 50, 'new_or_used': 'N', 'unit_price': '0.0300', 'bind_id': 0, 'description': 'Good Condition', 'remarks': '76154', 'bulk': 1, 'is_retain': True, 'is_stock_room': False, 'date_created': '2024-11-09T05:00:00.000Z', 'my_cost': '0.0000', 'sale_rate': -500, 'tier_quantity1': 0, 'tier_price1': '0.0000', 'tier_quantity2': 0, 'tier_price2': '0.0000', 'tier_quantity3': 0, 'tier_price3': '0.0000', 'my_weight': '0.0000'}, {'inventory_id': 440956167, 'item': {'no': '4282', 'name': 'Plate 2 x 16', 'type': 'PART', 'category_id': 26}, 'color_id': 86, 'color_name': 'Light Bluish Gray', 'quantity': 1, 'new_or_used': 'N', 'unit_price': '0.4200', 'bind_id': 0, 'description': 'Good Condition', 'remarks': '76111', 'bulk': 1, 'is_retain': True, 'is_stock_room': False, 'date_created': '2024-11-09T05:00:00.000Z', 'my_cost': '0.0000', 'sale_rate': -500, 'tier_quantity1': 0, 'tier_price1': '0.0000', 'tier_quantity2': 0, 'tier_price2': '0.0000', 'tier_quantity3': 0, 'tier_price3': '0.0000', 'my_weight': '0.0000'}, {'inventory_id': 440956187, 'item': {'no': '4740', 'name': 'Dish 2 x 2 Inverted (Radar)', 'type': 'PART', 'category_id': 116}, 'color_id': 17, 'color_name': 'Trans-Red', 'quantity': 1, 'new_or_used': 'N', 'unit_price': '0.0800', 'bind_id': 0, 'description': 'Good Condition', 'remarks': '76111', 'bulk': 1, 'is_retain': True, 'is_stock_room': False, 'date_created': '2024-11-09T05:00:00.000Z', 'my_cost': '0.0000', 'sale_rate': -500, 'tier_quantity1': 0, 'tier_price1': '0.0000', 'tier_quantity2': 0, 'tier_price2': '0.0000', 'tier_quantity3': 0, 'tier_price3': '0.0000', 'my_weight': '0.0000'}, {'inventory_id': 440956107, 'item': {'no': '30374', 'name': 'Bar   4L &#40;Lightsaber Blade / Wand&#41;', 'type': 'PART', 'category_id': 46}, 'color_id': 11, 'color_name': 'Black', 'quantity': 2, 'new_or_used': 'N', 'unit_price': '0.0800', 'bind_id': 0, 'description': 'Good Condition', 'remarks': '76111', 'bulk': 1, 'is_retain': True, 'is_stock_room': False, 'date_created': '2024-11-09T05:00:00.000Z', 'my_cost': '0.0000', 'sale_rate': -500, 'tier_quantity1': 0, 'tier_price1': '0.0000', 'tier_quantity2': 0, 'tier_price2': '0.0000', 'tier_quantity3': 0, 'tier_price3': '0.0000', 'my_weight': '0.0000'}, {'inventory_id': 440956160, 'item': {'no': '6005', 'name': 'Arch 1 x 3 x 2 Curved Top', 'type': 'PART', 'category_id': 6}, 'color_id': 86, 'color_name': 'Light Bluish Gray', 'quantity': 6, 'new_or_used': 'N', 'unit_price': '0.2600', 'bind_id': 0, 'description': 'Good Condition', 'remarks': '76111', 'bulk': 1, 'is_retain': True, 'is_stock_room': False, 'date_created': '2024-11-09T05:00:00.000Z', 'my_cost': '0.0000', 'sale_rate': -500, 'tier_quantity1': 0, 'tier_price1': '0.0000', 'tier_quantity2': 0, 'tier_price2': '0.0000', 'tier_quantity3': 0, 'tier_price3': '0.0000', 'my_weight': '0.0000'}, {'inventory_id': 440956148, 'item': {'no': '6091', 'name': 'Slope, Curved 2 x 1 x 1 1/3 with Recessed Stud', 'type': 'PART', 'category_id': 438}, 'color_id': 85, 'color_name': 'Dark Bluish Gray', 'quantity': 2, 'new_or_used': 'N', 'unit_price': '0.0900', 'bind_id': 0, 'description': 'Good Condition', 'remarks': '76111', 'bulk': 1, 'is_retain': True, 'is_stock_room': False, 'date_created': '2024-11-09T05:00:00.000Z', 'my_cost': '0.0000', 'sale_rate': -500, 'tier_quantity1': 0, 'tier_price1': '0.0000', 'tier_quantity2': 0, 'tier_price2': '0.0000', 'tier_quantity3': 0, 'tier_price3': '0.0000', 'my_weight': '0.0000'}, {'inventory_id': 440956133, 'item': {'no': '6558', 'name': 'Technic, Pin 3L with Friction Ridges', 'type': 'PART', 'category_id': 139}, 'color_id': 7, 'color_name': 'Blue', 'quantity': 1, 'new_or_used': 'N', 'unit_price': '0.0400', 'bind_id': 0, 'description': 'Good Condition', 'remarks': '76111', 'bulk': 1, 'is_retain': True, 'is_stock_room': False, 'date_created': '2024-11-09T05:00:00.000Z', 'my_cost': '0.0000', 'sale_rate': -500, 'tier_quantity1': 0, 'tier_price1': '0.0000', 'tier_quantity2': 0, 'tier_price2': '0.0000', 'tier_quantity3': 0, 'tier_price3': '0.0000', 'my_weight': '0.0000'}, {'inventory_id': 440956128, 'item': {'no': '6636', 'name': 'Tile 1 x 6', 'type': 'PART', 'category_id': 37}, 'color_id': 11, 'color_name': 'Black', 'quantity': 1, 'new_or_used': 'N', 'unit_price': '0.1700', 'bind_id': 0, 'description': 'Good Condition', 'remarks': '76111', 'bulk': 1, 'is_retain': True, 'is_stock_room': False, 'date_created': '2024-11-09T05:00:00.000Z', 'my_cost': '0.0000', 'sale_rate': -500, 'tier_quantity1': 0, 'tier_price1': '0.0000', 'tier_quantity2': 0, 'tier_price2': '0.0000', 'tier_quantity3': 0, 'tier_price3': '0.0000', 'my_weight': '0.0000'}, {'inventory_id': 440956323, 'item': {'no': '30503', 'name': 'Wedge, Plate 4 x 4 Cut Corner', 'type': 'PART', 'category_id': 583}, 'color_id': 59, 'color_name': 'Dark Red', 'quantity': 20, 'new_or_used': 'N', 'unit_price': '0.0800', 'bind_id': 0, 'description': 'Good Condition', 'remarks': '76154', 'bulk': 1, 'is_retain': True, 'is_stock_room': False, 'date_created': '2024-11-09T05:00:00.000Z', 'my_cost': '0.0000', 'sale_rate': -500, 'tier_quantity1': 0, 'tier_price1': '0.0000', 'tier_quantity2': 0, 'tier_price2': '0.0000', 'tier_quantity3': 0, 'tier_price3': '0.0000', 'my_weight': '0.0000'}, {'inventory_id': 440956159, 'item': {'no': '2412b', 'name': 'Tile, Modified 1 x 2 Grille with Bottom Groove', 'type': 'PART', 'category_id': 38}, 'color_id': 95, 'color_name': 'Flat Silver', 'quantity': 2, 'new_or_used': 'N', 'unit_price': '0.0300', 'bind_id': 0, 'description': 'Good Condition', 'remarks': '76111', 'bulk': 1, 'is_retain': True, 'is_stock_room': False, 'date_created': '2024-11-09T05:00:00.000Z', 'my_cost': '0.0000', 'sale_rate': -500, 'tier_quantity1': 0, 'tier_price1': '0.0000', 'tier_quantity2': 0, 'tier_price2': '0.0000', 'tier_quantity3': 0, 'tier_price3': '0.0000', 'my_weight': '0.0000'}, {'inventory_id': 440956312, 'item': {'no': '43712', 'name': 'Wedge 6 x 4 Triple Curved', 'type': 'PART', 'category_id': 42}, 'color_id': 63, 'color_name': 'Dark Blue', 'quantity': 10, 'new_or_used': 'N', 'unit_price': '0.4400', 'bind_id': 0, 'description': 'Good Condition', 'remarks': '76154', 'bulk': 1, 'is_retain': True, 'is_stock_room': False, 'date_created': '2024-11-09T05:00:00.000Z', 'my_cost': '0.0000', 'sale_rate': -500, 'tier_quantity1': 0, 'tier_price1': '0.0000', 'tier_quantity2': 0, 'tier_price2': '0.0000', 'tier_quantity3': 0, 'tier_price3': '0.0000', 'my_weight': '0.0000'}, {'inventory_id': 440956153, 'item': {'no': '48183', 'name': 'Wedge, Plate 3 x 4 with Stud Notches', 'type': 'PART', 'category_id': 583}, 'color_id': 85, 'color_name': 'Dark Bluish Gray', 'quantity': 2, 'new_or_used': 'N', 'unit_price': '0.0400', 'bind_id': 0, 'description': 'Good Condition', 'remarks': '76111', 'bulk': 1, 'is_retain': True, 'is_stock_room': False, 'date_created': '2024-11-09T05:00:00.000Z', 'my_cost': '0.0000', 'sale_rate': -500, 'tier_quantity1': 0, 'tier_price1': '0.0000', 'tier_quantity2': 0, 'tier_price2': '0.0000', 'tier_quantity3': 0, 'tier_price3': '0.0000', 'my_weight': '0.0000'}, {'inventory_id': 440956330, 'item': {'no': '44674', 'name': 'Vehicle, Mudguard 2 x 4 with Headlights Overhang', 'type': 'PART', 'category_id': 77}, 'color_id': 39, 'color_name': 'Dark Turquoise', 'quantity': 20, 'new_or_used': 'N', 'unit_price': '0.1300', 'bind_id': 0, 'description': 'Good Condition', 'remarks': '76154', 'bulk': 1, 'is_retain': True, 'is_stock_room': False, 'date_created': '2024-11-09T05:00:00.000Z', 'my_cost': '0.0000', 'sale_rate': -500, 'tier_quantity1': 0, 'tier_price1': '0.0000', 'tier_quantity2': 0, 'tier_price2': '0.0000', 'tier_quantity3': 0, 'tier_price3': '0.0000', 'my_weight': '0.0000'}, {'inventory_id': 440956140, 'item': {'no': '48336', 'name': 'Plate, Modified 1 x 2 with Bar Handle on Side - Closed Ends', 'type': 'PART', 'category_id': 27}, 'color_id': 85, 'color_name': 'Dark Bluish Gray', 'quantity': 2, 'new_or_used': 'N', 'unit_price': '0.0800', 'bind_id': 0, 'description': 'Good Condition', 'remarks': '76111', 'bulk': 1, 'is_retain': True, 'is_stock_room': False, 'date_created': '2024-11-09T05:00:00.000Z', 'my_cost': '0.0000', 'sale_rate': -500, 'tier_quantity1': 0, 'tier_price1': '0.0000', 'tier_quantity2': 0, 'tier_price2': '0.0000', 'tier_quantity3': 0, 'tier_price3': '0.0000', 'my_weight': '0.0000'}, {'inventory_id': 440956319, 'item': {'no': '47456', 'name': 'Slope, Curved 3 x 2 x 2/3 with 2 Studs, Wing End', 'type': 'PART', 'category_id': 438}, 'color_id': 59, 'color_name': 'Dark Red', 'quantity': 30, 'new_or_used': 'N', 'unit_price': '0.2500', 'bind_id': 0, 'description': 'Good Condition', 'remarks': '76154', 'bulk': 1, 'is_retain': True, 'is_stock_room': False, 'date_created': '2024-11-09T05:00:00.000Z', 'my_cost': '0.0000', 'sale_rate': -500, 'tier_quantity1': 0, 'tier_price1': '0.0000', 'tier_quantity2': 0, 'tier_price2': '0.0000', 'tier_quantity3': 0, 'tier_price3': '0.0000', 'my_weight': '0.0000'}, {'inventory_id': 440956181, 'item': {'no': '47457', 'name': 'Slope, Curved 2 x 2 x 2/3 with 2 Studs and Curved Sides', 'type': 'PART', 'category_id': 438}, 'color_id': 2, 'color_name': 'Tan', 'quantity': 2, 'new_or_used': 'N', 'unit_price': '0.3000', 'bind_id': 0, 'description': 'Good Condition', 'remarks': '76111', 'bulk': 1, 'is_retain': True, 'is_stock_room': False, 'date_created': '2024-11-09T05:00:00.000Z', 'my_cost': '0.0000', 'sale_rate': -500, 'tier_quantity1': 0, 'tier_price1': '0.0000', 'tier_quantity2': 0, 'tier_price2': '0.0000', 'tier_quantity3': 0, 'tier_price3': '0.0000', 'my_weight': '0.0000'}, {'inventory_id': 440956311, 'item': {'no': '47753', 'name': 'Wedge 4 x 4 Triple Curved No Studs', 'type': 'PART', 'category_id': 42}, 'color_id': 63, 'color_name': 'Dark Blue', 'quantity': 20, 'new_or_used': 'N', 'unit_price': '0.0700', 'bind_id': 0, 'description': 'Good Condition', 'remarks': '76154', 'bulk': 1, 'is_retain': True, 'is_stock_room': False, 'date_created': '2024-11-09T05:00:00.000Z', 'my_cost': '0.0000', 'sale_rate': -500, 'tier_quantity1': 0, 'tier_price1': '0.0000', 'tier_quantity2': 0, 'tier_price2': '0.0000', 'tier_quantity3': 0, 'tier_price3': '0.0000', 'my_weight': '0.0000'}, {'inventory_id': 440956124, 'item': {'no': '54200', 'name': 'Slope 30 1 x 1 x 2/3', 'type': 'PART', 'category_id': 31}, 'color_id': 11, 'color_name': 'Black', 'quantity': 7, 'new_or_used': 'N', 'unit_price': '0.0400', 'bind_id': 0, 'description': 'Good Condition', 'remarks': '76111', 'bulk': 1, 'is_retain': True, 'is_stock_room': False, 'date_created': '2024-11-09T05:00:00.000Z', 'my_cost': '0.0000', 'sale_rate': -500, 'tier_quantity1': 0, 'tier_price1': '0.0000', 'tier_quantity2': 0, 'tier_price2': '0.0000', 'tier_quantity3': 0, 'tier_price3': '0.0000', 'my_weight': '0.0000'}, {'inventory_id': 440956304, 'item': {'no': '54200', 'name': 'Slope 30 1 x 1 x 2/3', 'type': 'PART', 'category_id': 31}, 'color_id': 63, 'color_name': 'Dark Blue', 'quantity': 90, 'new_or_used': 'N', 'unit_price': '0.0400', 'bind_id': 0, 'description': 'Good Condition', 'remarks': '76154', 'bulk': 1, 'is_retain': True, 'is_stock_room': False, 'date_created': '2024-11-09T05:00:00.000Z', 'my_cost': '0.0000', 'sale_rate': -500, 'tier_quantity1': 0, 'tier_price1': '0.0000', 'tier_quantity2': 0, 'tier_price2': '0.0000', 'tier_quantity3': 0, 'tier_price3': '0.0000', 'my_weight': '0.0000'}, {'inventory_id': 440956307, 'item': {'no': '50950', 'name': 'Slope, Curved 3 x 1', 'type': 'PART', 'category_id': 438}, 'color_id': 63, 'color_name': 'Dark Blue', 'quantity': 40, 'new_or_used': 'N', 'unit_price': '0.0800', 'bind_id': 0, 'description': 'Good Condition', 'remarks': '76154', 'bulk': 1, 'is_retain': True, 'is_stock_room': False, 'date_created': '2024-11-09T05:00:00.000Z', 'my_cost': '0.0000', 'sale_rate': -500, 'tier_quantity1': 0, 'tier_price1': '0.0000', 'tier_quantity2': 0, 'tier_price2': '0.0000', 'tier_quantity3': 0, 'tier_price3': '0.0000', 'my_weight': '0.0000'}, {'inventory_id': 440956130, 'item': {'no': '50955', 'name': 'Wedge 10 x 3 Left', 'type': 'PART', 'category_id': 42}, 'color_id': 11, 'color_name': 'Black', 'quantity': 2, 'new_or_used': 'N', 'unit_price': '0.1800', 'bind_id': 0, 'description': 'Good Condition', 'remarks': '76111', 'bulk': 1, 'is_retain': True, 'is_stock_room': False, 'date_created': '2024-11-09T05:00:00.000Z', 'my_cost': '0.0000', 'sale_rate': -500, 'tier_quantity1': 0, 'tier_price1': '0.0000', 'tier_quantity2': 0, 'tier_price2': '0.0000', 'tier_quantity3': 0, 'tier_price3': '0.0000', 'my_weight': '0.0000'}, {'inventory_id': 440956131, 'item': {'no': '50956', 'name': 'Wedge 10 x 3 Right', 'type': 'PART', 'category_id': 42}, 'color_id': 11, 'color_name': 'Black', 'quantity': 2, 'new_or_used': 'N', 'unit_price': '0.1800', 'bind_id': 0, 'description': 'Good Condition', 'remarks': '76111', 'bulk': 1, 'is_retain': True, 'is_stock_room': False, 'date_created': '2024-11-09T05:00:00.000Z', 'my_cost': '0.0000', 'sale_rate': -500, 'tier_quantity1': 0, 'tier_price1': '0.0000', 'tier_quantity2': 0, 'tier_price2': '0.0000', 'tier_quantity3': 0, 'tier_price3': '0.0000', 'my_weight': '0.0000'}, {'inventory_id': 440956152, 'item': {'no': '50943', 'name': 'Vehicle, Air Scoop Engine Top 2 x 2', 'type': 'PART', 'category_id': 72}, 'color_id': 85, 'color_name': 'Dark Bluish Gray', 'quantity': 2, 'new_or_used': 'N', 'unit_price': '0.0800', 'bind_id': 0, 'description': 'Good Condition', 'remarks': '76111', 'bulk': 1, 'is_retain': True, 'is_stock_room': False, 'date_created': '2024-11-09T05:00:00.000Z', 'my_cost': '0.0000', 'sale_rate': -500, 'tier_quantity1': 0, 'tier_price1': '0.0000', 'tier_quantity2': 0, 'tier_price2': '0.0000', 'tier_quantity3': 0, 'tier_price3': '0.0000', 'my_weight': '0.0000'}, {'inventory_id': 440956310, 'item': {'no': '47755', 'name': 'Wedge 4 x 3 Open with Cutout and 4 Studs', 'type': 'PART', 'category_id': 42}, 'color_id': 63, 'color_name': 'Dark Blue', 'quantity': 40, 'new_or_used': 'N', 'unit_price': '0.0900', 'bind_id': 0, 'description': 'Good Condition', 'remarks': '76154', 'bulk': 1, 'is_retain': True, 'is_stock_room': False, 'date_created': '2024-11-09T05:00:00.000Z', 'my_cost': '0.0000', 'sale_rate': -500, 'tier_quantity1': 0, 'tier_price1': '0.0000', 'tier_quantity2': 0, 'tier_price2': '0.0000', 'tier_quantity3': 0, 'tier_price3': '0.0000', 'my_weight': '0.0000'}, {'inventory_id': 442269142, 'item': {'no': '1435-1', 'name': 'Super Glider', 'type': 'SET', 'category_id': 516}, 'color_id': 0, 'color_name': '(Not Applicable)', 'quantity': 65, 'new_or_used': 'U', 'completeness': 'C', 'unit_price': '25.0000', 'bind_id': 0, 'remarks': '', 'bulk': 1, 'is_retain': False, 'is_stock_room': False, 'date_created': '2024-11-15T11:53:00.000Z', 'my_cost': '0.0000', 'sale_rate': 0, 'tier_quantity1': 0, 'tier_price1': '0.0000', 'tier_quantity2': 0, 'tier_price2': '0.0000', 'tier_quantity3': 0, 'tier_price3': '0.0000', 'my_weight': '0.0000'}, {'inventory_id': 442269464, 'item': {'no': '1435-1', 'name': 'Super Glider', 'type': 'SET', 'category_id': 516}, 'color_id': 0, 'color_name': '(Not Applicable)', 'quantity': 15, 'new_or_used': 'U', 'completeness': 'C', 'unit_price': '10.0000', 'bind_id': 0, 'remarks': '', 'bulk': 1, 'is_retain': False, 'is_stock_room': False, 'date_created': '2024-11-15T11:55:00.000Z', 'my_cost': '0.0000', 'sale_rate': 0, 'tier_quantity1': 0, 'tier_price1': '0.0000', 'tier_quantity2': 0, 'tier_price2': '0.0000', 'tier_quantity3': 0, 'tier_price3': '0.0000', 'my_weight': '0.0000'}, {'inventory_id': 442269803, 'item': {'no': '1435-1', 'name': 'Super Glider', 'type': 'SET', 'category_id': 516}, 'color_id': 2, 'color_name': 'Tan', 'quantity': 15, 'new_or_used': 'U', 'completeness': 'C', 'unit_price': '30.0000', 'bind_id': 0, 'remarks': '', 'bulk': 1, 'is_retain': False, 'is_stock_room': False, 'date_created': '2024-11-15T11:59:00.000Z', 'my_cost': '0.0000', 'sale_rate': 0, 'tier_quantity1': 0, 'tier_price1': '0.0000', 'tier_quantity2': 0, 'tier_price2': '0.0000', 'tier_quantity3': 0, 'tier_price3': '0.0000', 'my_weight': '0.0000'}, {'inventory_id': 442270731, 'item': {'no': '1435-1', 'name': 'Super Glider', 'type': 'SET', 'category_id': 516}, 'color_id': 2, 'color_name': 'Tan', 'quantity': 15, 'new_or_used': 'U', 'completeness': 'C', 'unit_price': '30.0000', 'bind_id': 0, 'remarks': '', 'bulk': 1, 'is_retain': False, 'is_stock_room': False, 'date_created': '2024-11-15T12:02:00.000Z', 'my_cost': '0.0000', 'sale_rate': 0, 'tier_quantity1': 0, 'tier_price1': '0.0000', 'tier_quantity2': 0, 'tier_price2': '0.0000', 'tier_quantity3': 0, 'tier_price3': '0.0000', 'my_weight': '0.0000'}, {'inventory_id': 442933786, 'item': {'no': '1435-1', 'name': 'Super Glider', 'type': 'SET', 'category_id': 516}, 'color_id': 2, 'color_name': 'Tan', 'quantity': 15, 'new_or_used': 'U', 'completeness': 'C', 'unit_price': '30.0000', 'bind_id': 0, 'remarks': '', 'bulk': 1, 'is_retain': False, 'is_stock_room': False, 'date_created': '2024-11-18T08:30:00.000Z', 'my_cost': '0.0000', 'sale_rate': 0, 'tier_quantity1': 0, 'tier_price1': '0.0000', 'tier_quantity2': 0, 'tier_price2': '0.0000', 'tier_quantity3': 0, 'tier_price3': '0.0000', 'my_weight': '0.0000'}, {'inventory_id': 440956341, 'item': {'no': '51739', 'name': 'Wedge, Plate 2 x 4', 'type': 'PART', 'category_id': 583}, 'color_id': 48, 'color_name': 'Sand Green', 'quantity': 10, 'new_or_used': 'N', 'unit_price': '0.0900', 'bind_id': 0, 'description': 'Good Condition', 'remarks': '76154', 'bulk': 1, 'is_retain': True, 'is_stock_room': False, 'date_created': '2024-11-09T05:00:00.000Z', 'my_cost': '0.0000', 'sale_rate': -500, 'tier_quantity1': 0, 'tier_price1': '0.0000', 'tier_quantity2': 0, 'tier_price2': '0.0000', 'tier_quantity3': 0, 'tier_price3': '0.0000', 'my_weight': '0.0000'}, {'inventory_id': 440956112, 'item': {'no': '55706', 'name': 'Dragon Wing 8 x 10', 'type': 'PART', 'category_id': 148}, 'color_id': 11, 'color_name': 'Black', 'quantity': 2, 'new_or_used': 'N', 'unit_price': '0.1500', 'bind_id': 0, 'description': 'Good Condition', 'remarks': '76111', 'bulk': 1, 'is_retain': True, 'is_stock_room': False, 'date_created': '2024-11-09T05:00:00.000Z', 'my_cost': '0.0000', 'sale_rate': -500, 'tier_quantity1': 0, 'tier_price1': '0.0000', 'tier_quantity2': 0, 'tier_price2': '0.0000', 'tier_quantity3': 0, 'tier_price3': '0.0000', 'my_weight': '0.0000'}, {'inventory_id': 440956114, 'item': {'no': '98721', 'name': 'Minifigure, Weapon Batman Batarang &#40;2 Bat Wings with Bar in Middle&#41;', 'type': 'PART', 'category_id': 19}, 'color_id': 11, 'color_name': 'Black', 'quantity': 2, 'new_or_used': 'N', 'unit_price': '0.0800', 'bind_id': 0, 'description': 'Good Condition', 'remarks': '76111', 'bulk': 1, 'is_retain': True, 'is_stock_room': False, 'date_created': '2024-11-09T05:00:00.000Z', 'my_cost': '0.0000', 'sale_rate': -500, 'tier_quantity1': 0, 'tier_price1': '0.0000', 'tier_quantity2': 0, 'tier_price2': '0.0000', 'tier_quantity3': 0, 'tier_price3': '0.0000', 'my_weight': '0.0000'}, {'inventory_id': 440956123, 'item': {'no': '61409', 'name': 'Slope 18 2 x 1 x 2/3 with Grille', 'type': 'PART', 'category_id': 31}, 'color_id': 11, 'color_name': 'Black', 'quantity': 5, 'new_or_used': 'N', 'unit_price': '0.0500', 'bind_id': 0, 'description': 'Good Condition', 'remarks': '76111', 'bulk': 1, 'is_retain': True, 'is_stock_room': False, 'date_created': '2024-11-09T05:00:00.000Z', 'my_cost': '0.0000', 'sale_rate': -500, 'tier_quantity1': 0, 'tier_price1': '0.0000', 'tier_quantity2': 0, 'tier_price2': '0.0000', 'tier_quantity3': 0, 'tier_price3': '0.0000', 'my_weight': '0.0000'}, {'inventory_id': 440956145, 'item': {'no': '61409', 'name': 'Slope 18 2 x 1 x 2/3 with Grille', 'type': 'PART', 'category_id': 31}, 'color_id': 85, 'color_name': 'Dark Bluish Gray', 'quantity': 4, 'new_or_used': 'N', 'unit_price': '0.0400', 'bind_id': 0, 'description': 'Good Condition', 'remarks': '76111', 'bulk': 1, 'is_retain': True, 'is_stock_room': False, 'date_created': '2024-11-09T05:00:00.000Z', 'my_cost': '0.0000', 'sale_rate': -500, 'tier_quantity1': 0, 'tier_price1': '0.0000', 'tier_quantity2': 0, 'tier_price2': '0.0000', 'tier_quantity3': 0, 'tier_price3': '0.0000', 'my_weight': '0.0000'}, {'inventory_id': 440956135, 'item': {'no': '54930c02', 'name': 'Electric, Light Brick 2 x 3 x 1 1/3 with Trans-Clear Top and Yellow LED Light (Glows Orange)', 'type': 'PART', 'category_id': 123}, 'color_id': 85, 'color_name': 'Dark Bluish Gray', 'quantity': 1, 'new_or_used': 'N', 'unit_price': '2.7700', 'bind_id': 0, 'description': 'Good Condition', 'remarks': '76111', 'bulk': 1, 'is_retain': True, 'is_stock_room': False, 'date_created': '2024-11-09T05:00:00.000Z', 'my_cost': '0.0000', 'sale_rate': -500, 'tier_quantity1': 0, 'tier_price1': '0.0000', 'tier_quantity2': 0, 'tier_price2': '0.0000', 'tier_quantity3': 0, 'tier_price3': '0.0000', 'my_weight': '0.0000'}, {'inventory_id': 440956113, 'item': {'no': '64644', 'name': 'Minifigure, Utensil Telescope', 'type': 'PART', 'category_id': 18}, 'color_id': 11, 'color_name': 'Black', 'quantity': 2, 'new_or_used': 'N', 'unit_price': '0.0900', 'bind_id': 0, 'description': 'Good Condition', 'remarks': '76111', 'bulk': 1, 'is_retain': True, 'is_stock_room': False, 'date_created': '2024-11-09T05:00:00.000Z', 'my_cost': '0.0000', 'sale_rate': -500, 'tier_quantity1': 0, 'tier_price1': '0.0000', 'tier_quantity2': 0, 'tier_price2': '0.0000', 'tier_quantity3': 0, 'tier_price3': '0.0000', 'my_weight': '0.0000'}, {'inventory_id': 440956164, 'item': {'no': '60476', 'name': 'Brick, Modified 1 x 1 with Clip &#40;Horizontal Grip&#41;', 'type': 'PART', 'category_id': 7}, 'color_id': 86, 'color_name': 'Light Bluish Gray', 'quantity': 4, 'new_or_used': 'N', 'unit_price': '0.0400', 'bind_id': 0, 'description': 'Good Condition', 'remarks': '76111', 'bulk': 1, 'is_retain': True, 'is_stock_room': False, 'date_created': '2024-11-09T05:00:00.000Z', 'my_cost': '0.0000', 'sale_rate': -500, 'tier_quantity1': 0, 'tier_price1': '0.0000', 'tier_quantity2': 0, 'tier_price2': '0.0000', 'tier_quantity3': 0, 'tier_price3': '0.0000', 'my_weight': '0.0000'}, {'inventory_id': 440956141, 'item': {'no': '63868', 'name': 'Plate, Modified 1 x 2 with Clip on End &#40;Horizontal Grip&#41;', 'type': 'PART', 'category_id': 27}, 'color_id': 85, 'color_name': 'Dark Bluish Gray', 'quantity': 10, 'new_or_used': 'N', 'unit_price': '0.0400', 'bind_id': 0, 'description': 'Good Condition', 'remarks': '76111', 'bulk': 1, 'is_retain': True, 'is_stock_room': False, 'date_created': '2024-11-09T05:00:00.000Z', 'my_cost': '0.0000', 'sale_rate': -500, 'tier_quantity1': 0, 'tier_price1': '0.0000', 'tier_quantity2': 0, 'tier_price2': '0.0000', 'tier_quantity3': 0, 'tier_price3': '0.0000', 'my_weight': '0.0000'}, {'inventory_id': 440956180, 'item': {'no': '85984', 'name': 'Slope 30 1 x 2 x 2/3', 'type': 'PART', 'category_id': 31}, 'color_id': 2, 'color_name': 'Tan', 'quantity': 3, 'new_or_used': 'N', 'unit_price': '0.0700', 'bind_id': 0, 'description': 'Good Condition', 'remarks': '76111', 'bulk': 1, 'is_retain': True, 'is_stock_room': False, 'date_created': '2024-11-09T05:00:00.000Z', 'my_cost': '0.0000', 'sale_rate': -500, 'tier_quantity1': 0, 'tier_price1': '0.0000', 'tier_quantity2': 0, 'tier_price2': '0.0000', 'tier_quantity3': 0, 'tier_price3': '0.0000', 'my_weight': '0.0000'}, {'inventory_id': 440956125, 'item': {'no': '85984', 'name': 'Slope 30 1 x 2 x 2/3', 'type': 'PART', 'category_id': 31}, 'color_id': 11, 'color_name': 'Black', 'quantity': 2, 'new_or_used': 'N', 'unit_price': '0.0600', 'bind_id': 0, 'description': 'Good Condition', 'remarks': '76111', 'bulk': 1, 'is_retain': True, 'is_stock_room': False, 'date_created': '2024-11-09T05:00:00.000Z', 'my_cost': '0.0000', 'sale_rate': -500, 'tier_quantity1': 0, 'tier_price1': '0.0000', 'tier_quantity2': 0, 'tier_price2': '0.0000', 'tier_quantity3': 0, 'tier_price3': '0.0000', 'my_weight': '0.0000'}, {'inventory_id': 440956111, 'item': {'no': '87081', 'name': 'Brick, Round 4 x 4 with Hole', 'type': 'PART', 'category_id': 8}, 'color_id': 11, 'color_name': 'Black', 'quantity': 1, 'new_or_used': 'N', 'unit_price': '0.1000', 'bind_id': 0, 'description': 'Good Condition', 'remarks': '76111', 'bulk': 1, 'is_retain': True, 'is_stock_room': False, 'date_created': '2024-11-09T05:00:00.000Z', 'my_cost': '0.0000', 'sale_rate': -500, 'tier_quantity1': 0, 'tier_price1': '0.0000', 'tier_quantity2': 0, 'tier_price2': '0.0000', 'tier_quantity3': 0, 'tier_price3': '0.0000', 'my_weight': '0.0000'}, {'inventory_id': 440956314, 'item': {'no': '61252', 'name': 'Plate, Modified 1 x 1 with Open O Clip &#40;Horizontal Grip&#41;', 'type': 'PART', 'category_id': 27}, 'color_id': 59, 'color_name': 'Dark Red', 'quantity': 30, 'new_or_used': 'N', 'unit_price': '0.1200', 'bind_id': 0, 'description': 'Good Condition', 'remarks': '76154', 'bulk': 1, 'is_retain': True, 'is_stock_room': False, 'date_created': '2024-11-09T05:00:00.000Z', 'my_cost': '0.0000', 'sale_rate': -500, 'tier_quantity1': 0, 'tier_price1': '0.0000', 'tier_quantity2': 0, 'tier_price2': '0.0000', 'tier_quantity3': 0, 'tier_price3': '0.0000', 'my_weight': '0.0000'}, {'inventory_id': 440956166, 'item': {'no': '88293', 'name': 'Brick, Round Corner 3 x 3 x 2 Dome Top', 'type': 'PART', 'category_id': 8}, 'color_id': 86, 'color_name': 'Light Bluish Gray', 'quantity': 4, 'new_or_used': 'N', 'unit_price': '1.1800', 'bind_id': 0, 'description': 'Good Condition', 'remarks': '76111', 'bulk': 1, 'is_retain': True, 'is_stock_room': False, 'date_created': '2024-11-09T05:00:00.000Z', 'my_cost': '0.0000', 'sale_rate': -500, 'tier_quantity1': 0, 'tier_price1': '0.0000', 'tier_quantity2': 0, 'tier_price2': '0.0000', 'tier_quantity3': 0, 'tier_price3': '0.0000', 'my_weight': '0.0000'}, {'inventory_id': 440956286, 'item': {'no': '4085d', 'name': 'Plate, Modified 1 x 1 with Open O Clip Thick &#40;Vertical Grip&#41;', 'type': 'PART', 'category_id': 27}, 'color_id': 11, 'color_name': 'Black', 'quantity': 40, 'new_or_used': 'N', 'unit_price': '0.0400', 'bind_id': 0, 'description': 'Good Condition', 'remarks': '76154', 'bulk': 1, 'is_retain': True, 'is_stock_room': False, 'date_created': '2024-11-09T05:00:00.000Z', 'my_cost': '0.0000', 'sale_rate': -500, 'tier_quantity1': 0, 'tier_price1': '0.0000', 'tier_quantity2': 0, 'tier_price2': '0.0000', 'tier_quantity3': 0, 'tier_price3': '0.0000', 'my_weight': '0.0000'}, {'inventory_id': 440956168, 'item': {'no': '92280', 'name': 'Plate, Modified 1 x 2 with Clip with Center Cut on Top', 'type': 'PART', 'category_id': 27}, 'color_id': 86, 'color_name': 'Light Bluish Gray', 'quantity': 2, 'new_or_used': 'N', 'unit_price': '0.0400', 'bind_id': 0, 'description': 'Good Condition', 'remarks': '76111', 'bulk': 1, 'is_retain': True, 'is_stock_room': False, 'date_created': '2024-11-09T05:00:00.000Z', 'my_cost': '0.0000', 'sale_rate': -500, 'tier_quantity1': 0, 'tier_price1': '0.0000', 'tier_quantity2': 0, 'tier_price2': '0.0000', 'tier_quantity3': 0, 'tier_price3': '0.0000', 'my_weight': '0.0000'}, {'inventory_id': 440956305, 'item': {'no': '92946', 'name': 'Slope 45 2 x 1 with 2/3 Cutout', 'type': 'PART', 'category_id': 31}, 'color_id': 63, 'color_name': 'Dark Blue', 'quantity': 40, 'new_or_used': 'N', 'unit_price': '0.0500', 'bind_id': 0, 'description': 'Good Condition', 'remarks': '76154', 'bulk': 1, 'is_retain': True, 'is_stock_room': False, 'date_created': '2024-11-09T05:00:00.000Z', 'my_cost': '0.0000', 'sale_rate': -500, 'tier_quantity1': 0, 'tier_price1': '0.0000', 'tier_quantity2': 0, 'tier_price2': '0.0000', 'tier_quantity3': 0, 'tier_price3': '0.0000', 'my_weight': '0.0000'}, {'inventory_id': 440956163, 'item': {'no': '2436b', 'name': 'Bracket 1 x 2 - 1 x 4 with Rounded Corners', 'type': 'PART', 'category_id': 4}, 'color_id': 86, 'color_name': 'Light Bluish Gray', 'quantity': 4, 'new_or_used': 'N', 'unit_price': '0.0700', 'bind_id': 0, 'description': 'Good Condition', 'remarks': '76111', 'bulk': 1, 'is_retain': True, 'is_stock_room': False, 'date_created': '2024-11-09T05:00:00.000Z', 'my_cost': '0.0000', 'sale_rate': -500, 'tier_quantity1': 0, 'tier_price1': '0.0000', 'tier_quantity2': 0, 'tier_price2': '0.0000', 'tier_quantity3': 0, 'tier_price3': '0.0000', 'my_weight': '0.0000'}, {'inventory_id': 440956143, 'item': {'no': '99021', 'name': 'Pneumatic Hose Connector with Axle Connector', 'type': 'PART', 'category_id': 159}, 'color_id': 85, 'color_name': 'Dark Bluish Gray', 'quantity': 3, 'new_or_used': 'N', 'unit_price': '0.0700', 'bind_id': 0, 'description': 'Good Condition', 'remarks': '76111', 'bulk': 1, 'is_retain': True, 'is_stock_room': False, 'date_created': '2024-11-09T05:00:00.000Z', 'my_cost': '0.0000', 'sale_rate': -500, 'tier_quantity1': 0, 'tier_price1': '0.0000', 'tier_quantity2': 0, 'tier_price2': '0.0000', 'tier_quantity3': 0, 'tier_price3': '0.0000', 'my_weight': '0.0000'}, {'inventory_id': 440956118, 'item': {'no': '61406pb05', 'name': 'Plate, Modified 1 x 2 with Angular Extension with Molded Flexible Rubber Black Tip Pattern', 'type': 'PART', 'category_id': 27}, 'color_id': 11, 'color_name': 'Black', 'quantity': 2, 'new_or_used': 'N', 'unit_price': '0.1500', 'bind_id': 0, 'description': 'Good Condition', 'remarks': '76111', 'bulk': 1, 'is_retain': True, 'is_stock_room': False, 'date_created': '2024-11-09T05:00:00.000Z', 'my_cost': '0.0000', 'sale_rate': -500, 'tier_quantity1': 0, 'tier_price1': '0.0000', 'tier_quantity2': 0, 'tier_price2': '0.0000', 'tier_quantity3': 0, 'tier_price3': '0.0000', 'my_weight': '0.0000'}, {'inventory_id': 440956108, 'item': {'no': '99207', 'name': 'Bracket 1 x 2 - 2 x 2 Inverted', 'type': 'PART', 'category_id': 4}, 'color_id': 11, 'color_name': 'Black', 'quantity': 4, 'new_or_used': 'N', 'unit_price': '0.0600', 'bind_id': 0, 'description': 'Good Condition', 'remarks': '76111', 'bulk': 1, 'is_retain': True, 'is_stock_room': False, 'date_created': '2024-11-09T05:00:00.000Z', 'my_cost': '0.0000', 'sale_rate': -500, 'tier_quantity1': 0, 'tier_price1': '0.0000', 'tier_quantity2': 0, 'tier_price2': '0.0000', 'tier_quantity3': 0, 'tier_price3': '0.0000', 'my_weight': '0.0000'}, {'inventory_id': 440956284, 'item': {'no': '99781', 'name': 'Bracket 1 x 2 - 1 x 2', 'type': 'PART', 'category_id': 4}, 'color_id': 11, 'color_name': 'Black', 'quantity': 20, 'new_or_used': 'N', 'unit_price': '0.0800', 'bind_id': 0, 'description': 'Good Condition', 'remarks': '76154', 'bulk': 1, 'is_retain': True, 'is_stock_room': False, 'date_created': '2024-11-09T05:00:00.000Z', 'my_cost': '0.0000', 'sale_rate': -500, 'tier_quantity1': 0, 'tier_price1': '0.0000', 'tier_quantity2': 0, 'tier_price2': '0.0000', 'tier_quantity3': 0, 'tier_price3': '0.0000', 'my_weight': '0.0000'}, {'inventory_id': 440956162, 'item': {'no': '99781', 'name': 'Bracket 1 x 2 - 1 x 2', 'type': 'PART', 'category_id': 4}, 'color_id': 86, 'color_name': 'Light Bluish Gray', 'quantity': 2, 'new_or_used': 'N', 'unit_price': '0.0800', 'bind_id': 0, 'description': 'Good Condition', 'remarks': '76111', 'bulk': 1, 'is_retain': True, 'is_stock_room': False, 'date_created': '2024-11-09T05:00:00.000Z', 'my_cost': '0.0000', 'sale_rate': -500, 'tier_quantity1': 0, 'tier_price1': '0.0000', 'tier_quantity2': 0, 'tier_price2': '0.0000', 'tier_quantity3': 0, 'tier_price3': '0.0000', 'my_weight': '0.0000'}, {'inventory_id': 440956121, 'item': {'no': '99206', 'name': 'Plate, Modified 2 x 2 x 2/3 with 2 Studs on Side', 'type': 'PART', 'category_id': 27}, 'color_id': 11, 'color_name': 'Black', 'quantity': 2, 'new_or_used': 'N', 'unit_price': '0.0700', 'bind_id': 0, 'description': 'Good Condition', 'remarks': '76111', 'bulk': 1, 'is_retain': True, 'is_stock_room': False, 'date_created': '2024-11-09T05:00:00.000Z', 'my_cost': '0.0000', 'sale_rate': -500, 'tier_quantity1': 0, 'tier_price1': '0.0000', 'tier_quantity2': 0, 'tier_price2': '0.0000', 'tier_quantity3': 0, 'tier_price3': '0.0000', 'my_weight': '0.0000'}, {'inventory_id': 440956151, 'item': {'no': '11203', 'name': 'Tile, Modified 2 x 2 Inverted', 'type': 'PART', 'category_id': 38}, 'color_id': 85, 'color_name': 'Dark Bluish Gray', 'quantity': 1, 'new_or_used': 'N', 'unit_price': '0.1700', 'bind_id': 0, 'description': 'Good Condition', 'remarks': '76111', 'bulk': 1, 'is_retain': True, 'is_stock_room': False, 'date_created': '2024-11-09T05:00:00.000Z', 'my_cost': '0.0000', 'sale_rate': -500, 'tier_quantity1': 0, 'tier_price1': '0.0000', 'tier_quantity2': 0, 'tier_price2': '0.0000', 'tier_quantity3': 0, 'tier_price3': '0.0000', 'my_weight': '0.0000'}, {'inventory_id': 440956296, 'item': {'no': '11291', 'name': 'Wedge 3 x 4 x 2/3 Curved with Cutout', 'type': 'PART', 'category_id': 42}, 'color_id': 11, 'color_name': 'Black', 'quantity': 20, 'new_or_used': 'N', 'unit_price': '0.1900', 'bind_id': 0, 'description': 'Good Condition', 'remarks': '76154', 'bulk': 1, 'is_retain': True, 'is_stock_room': False, 'date_created': '2024-11-09T05:00:00.000Z', 'my_cost': '0.0000', 'sale_rate': -500, 'tier_quantity1': 0, 'tier_price1': '0.0000', 'tier_quantity2': 0, 'tier_price2': '0.0000', 'tier_quantity3': 0, 'tier_price3': '0.0000', 'my_weight': '0.0000'}, {'inventory_id': 440956173, 'item': {'no': '11833', 'name': 'Plate, Round 4 x 4 with 2 x 2 Round Open Center', 'type': 'PART', 'category_id': 28}, 'color_id': 86, 'color_name': 'Light Bluish Gray', 'quantity': 1, 'new_or_used': 'N', 'unit_price': '0.1200', 'bind_id': 0, 'description': 'Good Condition', 'remarks': '76111', 'bulk': 1, 'is_retain': True, 'is_stock_room': False, 'date_created': '2024-11-09T05:00:00.000Z', 'my_cost': '0.0000', 'sale_rate': -500, 'tier_quantity1': 0, 'tier_price1': '0.0000', 'tier_quantity2': 0, 'tier_price2': '0.0000', 'tier_quantity3': 0, 'tier_price3': '0.0000', 'my_weight': '0.0000'}, {'inventory_id': 440956285, 'item': {'no': '11211', 'name': 'Brick, Modified 1 x 2 with Studs on 1 Side', 'type': 'PART', 'category_id': 7}, 'color_id': 11, 'color_name': 'Black', 'quantity': 20, 'new_or_used': 'N', 'unit_price': '0.1500', 'bind_id': 0, 'description': 'Good Condition', 'remarks': '76154', 'bulk': 1, 'is_retain': True, 'is_stock_room': False, 'date_created': '2024-11-09T05:00:00.000Z', 'my_cost': '0.0000', 'sale_rate': -500, 'tier_quantity1': 0, 'tier_price1': '0.0000', 'tier_quantity2': 0, 'tier_price2': '0.0000', 'tier_quantity3': 0, 'tier_price3': '0.0000', 'my_weight': '0.0000'}, {'inventory_id': 440956174, 'item': {'no': '11213', 'name': 'Plate, Round 6 x 6 with Hole', 'type': 'PART', 'category_id': 28}, 'color_id': 86, 'color_name': 'Light Bluish Gray', 'quantity': 1, 'new_or_used': 'N', 'unit_price': '0.1000', 'bind_id': 0, 'description': 'Good Condition', 'remarks': '76111', 'bulk': 1, 'is_retain': True, 'is_stock_room': False, 'date_created': '2024-11-09T05:00:00.000Z', 'my_cost': '0.0000', 'sale_rate': -500, 'tier_quantity1': 0, 'tier_price1': '0.0000', 'tier_quantity2': 0, 'tier_price2': '0.0000', 'tier_quantity3': 0, 'tier_price3': '0.0000', 'my_weight': '0.0000'}, {'inventory_id': 440956331, 'item': {'no': '13548', 'name': 'Wedge 2 x 2 &#40;Slope 45 Corner&#41;', 'type': 'PART', 'category_id': 42}, 'color_id': 39, 'color_name': 'Dark Turquoise', 'quantity': 20, 'new_or_used': 'N', 'unit_price': '0.1400', 'bind_id': 0, 'description': 'Good Condition', 'remarks': '76154', 'bulk': 1, 'is_retain': True, 'is_stock_room': False, 'date_created': '2024-11-09T05:00:00.000Z', 'my_cost': '0.0000', 'sale_rate': -500, 'tier_quantity1': 0, 'tier_price1': '0.0000', 'tier_quantity2': 0, 'tier_price2': '0.0000', 'tier_quantity3': 0, 'tier_price3': '0.0000', 'my_weight': '0.0000'}, {'inventory_id': 440956317, 'item': {'no': '11477', 'name': 'Slope, Curved 2 x 1 x 2/3', 'type': 'PART', 'category_id': 438}, 'color_id': 59, 'color_name': 'Dark Red', 'quantity': 40, 'new_or_used': 'N', 'unit_price': '0.1300', 'bind_id': 0, 'description': 'Good Condition', 'remarks': '76154', 'bulk': 1, 'is_retain': True, 'is_stock_room': False, 'date_created': '2024-11-09T05:00:00.000Z', 'my_cost': '0.0000', 'sale_rate': -500, 'tier_quantity1': 0, 'tier_price1': '0.0000', 'tier_quantity2': 0, 'tier_price2': '0.0000', 'tier_quantity3': 0, 'tier_price3': '0.0000', 'my_weight': '0.0000'}, {'inventory_id': 440956308, 'item': {'no': '13547', 'name': 'Slope, Curved 4 x 1 Inverted', 'type': 'PART', 'category_id': 438}, 'color_id': 63, 'color_name': 'Dark Blue', 'quantity': 20, 'new_or_used': 'N', 'unit_price': '0.2400', 'bind_id': 0, 'description': 'Good Condition', 'remarks': '76154', 'bulk': 1, 'is_retain': True, 'is_stock_room': False, 'date_created': '2024-11-09T05:00:00.000Z', 'my_cost': '0.0000', 'sale_rate': -500, 'tier_quantity1': 0, 'tier_price1': '0.0000', 'tier_quantity2': 0, 'tier_price2': '0.0000', 'tier_quantity3': 0, 'tier_price3': '0.0000', 'my_weight': '0.0000'}, {'inventory_id': 440956117, 'item': {'no': '15573', 'name': 'Plate, Modified 1 x 2 with 1 Stud with Groove and Bottom Stud Holder &#40;Jumper&#41;', 'type': 'PART', 'category_id': 27}, 'color_id': 11, 'color_name': 'Black', 'quantity': 6, 'new_or_used': 'N', 'unit_price': '0.0500', 'bind_id': 0, 'description': 'Good Condition', 'remarks': '76111', 'bulk': 1, 'is_retain': True, 'is_stock_room': False, 'date_created': '2024-11-09T05:00:00.000Z', 'my_cost': '0.0000', 'sale_rate': -500, 'tier_quantity1': 0, 'tier_price1': '0.0000', 'tier_quantity2': 0, 'tier_price2': '0.0000', 'tier_quantity3': 0, 'tier_price3': '0.0000', 'my_weight': '0.0000'}, {'inventory_id': 440956139, 'item': {'no': '15573', 'name': 'Plate, Modified 1 x 2 with 1 Stud with Groove and Bottom Stud Holder &#40;Jumper&#41;', 'type': 'PART', 'category_id': 27}, 'color_id': 85, 'color_name': 'Dark Bluish Gray', 'quantity': 5, 'new_or_used': 'N', 'unit_price': '0.0700', 'bind_id': 0, 'description': 'Good Condition', 'remarks': '76111', 'bulk': 1, 'is_retain': True, 'is_stock_room': False, 'date_created': '2024-11-09T05:00:00.000Z', 'my_cost': '0.0000', 'sale_rate': -500, 'tier_quantity1': 0, 'tier_price1': '0.0000', 'tier_quantity2': 0, 'tier_price2': '0.0000', 'tier_quantity3': 0, 'tier_price3': '0.0000', 'my_weight': '0.0000'}, {'inventory_id': 440956176, 'item': {'no': '15068', 'name': 'Slope, Curved 2 x 2 x 2/3', 'type': 'PART', 'category_id': 438}, 'color_id': 86, 'color_name': 'Light Bluish Gray', 'quantity': 1, 'new_or_used': 'N', 'unit_price': '0.2100', 'bind_id': 0, 'description': 'Good Condition', 'remarks': '76111', 'bulk': 1, 'is_retain': True, 'is_stock_room': False, 'date_created': '2024-11-09T05:00:00.000Z', 'my_cost': '0.0000', 'sale_rate': -500, 'tier_quantity1': 0, 'tier_price1': '0.0000', 'tier_quantity2': 0, 'tier_price2': '0.0000', 'tier_quantity3': 0, 'tier_price3': '0.0000', 'my_weight': '0.0000'}, {'inventory_id': 440956290, 'item': {'no': '15456', 'name': 'Plate, Modified 2 x 2 with Tow Ball and Hole', 'type': 'PART', 'category_id': 27}, 'color_id': 11, 'color_name': 'Black', 'quantity': 10, 'new_or_used': 'N', 'unit_price': '0.0300', 'bind_id': 0, 'description': 'Good Condition', 'remarks': '76154', 'bulk': 1, 'is_retain': True, 'is_stock_room': False, 'date_created': '2024-11-09T05:00:00.000Z', 'my_cost': '0.0000', 'sale_rate': -500, 'tier_quantity1': 0, 'tier_price1': '0.0000', 'tier_quantity2': 0, 'tier_price2': '0.0000', 'tier_quantity3': 0, 'tier_price3': '0.0000', 'my_weight': '0.0000'}, {'inventory_id': 440956171, 'item': {'no': '15456', 'name': 'Plate, Modified 2 x 2 with Tow Ball and Hole', 'type': 'PART', 'category_id': 27}, 'color_id': 86, 'color_name': 'Light Bluish Gray', 'quantity': 3, 'new_or_used': 'N', 'unit_price': '0.0400', 'bind_id': 0, 'description': 'Good Condition', 'remarks': '76111', 'bulk': 1, 'is_retain': True, 'is_stock_room': False, 'date_created': '2024-11-09T05:00:00.000Z', 'my_cost': '0.0000', 'sale_rate': -500, 'tier_quantity1': 0, 'tier_price1': '0.0000', 'tier_quantity2': 0, 'tier_price2': '0.0000', 'tier_quantity3': 0, 'tier_price3': '0.0000', 'my_weight': '0.0000'}, {'inventory_id': 440956157, 'item': {'no': '15391', 'name': 'Minifigure, Weapon Gun, Mini Blaster / Shooter', 'type': 'PART', 'category_id': 19}, 'color_id': 95, 'color_name': 'Flat Silver', 'quantity': 1, 'new_or_used': 'N', 'unit_price': '0.1600', 'bind_id': 0, 'description': 'Good Condition', 'remarks': '76111', 'bulk': 1, 'is_retain': True, 'is_stock_room': False, 'date_created': '2024-11-09T05:00:00.000Z', 'my_cost': '0.0000', 'sale_rate': -500, 'tier_quantity1': 0, 'tier_price1': '0.0000', 'tier_quantity2': 0, 'tier_price2': '0.0000', 'tier_quantity3': 0, 'tier_price3': '0.0000', 'my_weight': '0.0000'}, {'inventory_id': 440956144, 'item': {'no': '15392', 'name': 'Projectile Launcher Part, Trigger for Gun, Mini Blaster / Shooter', 'type': 'PART', 'category_id': 992}, 'color_id': 85, 'color_name': 'Dark Bluish Gray', 'quantity': 4, 'new_or_used': 'N', 'unit_price': '0.0200', 'bind_id': 0, 'description': 'Good Condition', 'remarks': '76111', 'bulk': 1, 'is_retain': True, 'is_stock_room': False, 'date_created': '2024-11-09T05:00:00.000Z', 'my_cost': '0.0000', 'sale_rate': -500, 'tier_quantity1': 0, 'tier_price1': '0.0000', 'tier_quantity2': 0, 'tier_price2': '0.0000', 'tier_quantity3': 0, 'tier_price3': '0.0000', 'my_weight': '0.0000'}, {'inventory_id': 440956150, 'item': {'no': '15712', 'name': 'Tile, Modified 1 x 1 with Open O Clip', 'type': 'PART', 'category_id': 38}, 'color_id': 85, 'color_name': 'Dark Bluish Gray', 'quantity': 6, 'new_or_used': 'N', 'unit_price': '0.0800', 'bind_id': 0, 'description': 'Good Condition', 'remarks': '76111', 'bulk': 1, 'is_retain': True, 'is_stock_room': False, 'date_created': '2024-11-09T05:00:00.000Z', 'my_cost': '0.0000', 'sale_rate': -500, 'tier_quantity1': 0, 'tier_price1': '0.0000', 'tier_quantity2': 0, 'tier_price2': '0.0000', 'tier_quantity3': 0, 'tier_price3': '0.0000', 'my_weight': '0.0000'}, {'inventory_id': 440956313, 'item': {'no': '14417', 'name': 'Plate, Modified 1 x 2 with Tow Ball on Side', 'type': 'PART', 'category_id': 27}, 'color_id': 85, 'color_name': 'Dark Bluish Gray', 'quantity': 60, 'new_or_used': 'N', 'unit_price': '0.0400', 'bind_id': 0, 'description': 'Good Condition', 'remarks': '76154', 'bulk': 1, 'is_retain': True, 'is_stock_room': False, 'date_created': '2024-11-09T05:00:00.000Z', 'my_cost': '0.0000', 'sale_rate': -500, 'tier_quantity1': 0, 'tier_price1': '0.0000', 'tier_quantity2': 0, 'tier_price2': '0.0000', 'tier_quantity3': 0, 'tier_price3': '0.0000', 'my_weight': '0.0000'}, {'inventory_id': 440956333, 'item': {'no': '14418', 'name': 'Plate, Modified 1 x 2 with Small Tow Ball Socket on End', 'type': 'PART', 'category_id': 27}, 'color_id': 86, 'color_name': 'Light Bluish Gray', 'quantity': 40, 'new_or_used': 'N', 'unit_price': '0.0500', 'bind_id': 0, 'description': 'Good Condition', 'remarks': '76154', 'bulk': 1, 'is_retain': True, 'is_stock_room': False, 'date_created': '2024-11-09T05:00:00.000Z', 'my_cost': '0.0000', 'sale_rate': -500, 'tier_quantity1': 0, 'tier_price1': '0.0000', 'tier_quantity2': 0, 'tier_price2': '0.0000', 'tier_quantity3': 0, 'tier_price3': '0.0000', 'my_weight': '0.0000'}, {'inventory_id': 440956170, 'item': {'no': '14704', 'name': 'Plate, Modified 1 x 2 with Small Tow Ball Socket on Side', 'type': 'PART', 'category_id': 27}, 'color_id': 86, 'color_name': 'Light Bluish Gray', 'quantity': 33, 'new_or_used': 'N', 'unit_price': '0.0400', 'bind_id': 0, 'description': 'Good Condition', 'remarks': '76111', 'bulk': 1, 'is_retain': True, 'is_stock_room': False, 'date_created': '2024-11-09T05:00:00.000Z', 'my_cost': '0.0000', 'sale_rate': -500, 'tier_quantity1': 0, 'tier_price1': '0.0000', 'tier_quantity2': 0, 'tier_price2': '0.0000', 'tier_quantity3': 0, 'tier_price3': '0.0000', 'my_weight': '0.0000'}, {'inventory_id': 440956149, 'item': {'no': '15100', 'name': 'Technic, Pin with Friction Ridges and Pin Hole', 'type': 'PART', 'category_id': 139}, 'color_id': 85, 'color_name': 'Dark Bluish Gray', 'quantity': 2, 'new_or_used': 'N', 'unit_price': '0.1300', 'bind_id': 0, 'description': 'Good Condition', 'remarks': '76111', 'bulk': 1, 'is_retain': True, 'is_stock_room': False, 'date_created': '2024-11-09T05:00:00.000Z', 'my_cost': '0.0000', 'sale_rate': -500, 'tier_quantity1': 0, 'tier_price1': '0.0000', 'tier_quantity2': 0, 'tier_price2': '0.0000', 'tier_quantity3': 0, 'tier_price3': '0.0000', 'my_weight': '0.0000'}, {'inventory_id': 440956119, 'item': {'no': '18649', 'name': 'Plate, Modified 1 x 2 with Bar Handles on Ends', 'type': 'PART', 'category_id': 27}, 'color_id': 11, 'color_name': 'Black', 'quantity': 12, 'new_or_used': 'N', 'unit_price': '0.0500', 'bind_id': 0, 'description': 'Good Condition', 'remarks': '76111', 'bulk': 1, 'is_retain': True, 'is_stock_room': False, 'date_created': '2024-11-09T05:00:00.000Z', 'my_cost': '0.0000', 'sale_rate': -500, 'tier_quantity1': 0, 'tier_price1': '0.0000', 'tier_quantity2': 0, 'tier_price2': '0.0000', 'tier_quantity3': 0, 'tier_price3': '0.0000', 'my_weight': '0.0000'}, {'inventory_id': 440956289, 'item': {'no': '18677', 'name': 'Plate, Modified 1 x 2 with Pin Hole on Bottom', 'type': 'PART', 'category_id': 27}, 'color_id': 11, 'color_name': 'Black', 'quantity': 40, 'new_or_used': 'N', 'unit_price': '0.0800', 'bind_id': 0, 'description': 'Good Condition', 'remarks': '76154', 'bulk': 1, 'is_retain': True, 'is_stock_room': False, 'date_created': '2024-11-09T05:00:00.000Z', 'my_cost': '0.0000', 'sale_rate': -500, 'tier_quantity1': 0, 'tier_price1': '0.0000', 'tier_quantity2': 0, 'tier_price2': '0.0000', 'tier_quantity3': 0, 'tier_price3': '0.0000', 'my_weight': '0.0000'}, {'inventory_id': 440956122, 'item': {'no': '15403', 'name': 'Projectile Launcher, 1 x 2 Mini Blaster / Shooter', 'type': 'PART', 'category_id': 992}, 'color_id': 11, 'color_name': 'Black', 'quantity': 2, 'new_or_used': 'N', 'unit_price': '0.0400', 'bind_id': 0, 'description': 'Good Condition', 'remarks': '76111', 'bulk': 1, 'is_retain': True, 'is_stock_room': False, 'date_created': '2024-11-09T05:00:00.000Z', 'my_cost': '0.0000', 'sale_rate': -500, 'tier_quantity1': 0, 'tier_price1': '0.0000', 'tier_quantity2': 0, 'tier_price2': '0.0000', 'tier_quantity3': 0, 'tier_price3': '0.0000', 'my_weight': '0.0000'}, {'inventory_id': 440956142, 'item': {'no': '22888', 'name': 'Plate, Round Half 4 x 8', 'type': 'PART', 'category_id': 28}, 'color_id': 85, 'color_name': 'Dark Bluish Gray', 'quantity': 4, 'new_or_used': 'N', 'unit_price': '0.1300', 'bind_id': 0, 'description': 'Good Condition', 'remarks': '76111', 'bulk': 1, 'is_retain': True, 'is_stock_room': False, 'date_created': '2024-11-09T05:00:00.000Z', 'my_cost': '0.0000', 'sale_rate': -500, 'tier_quantity1': 0, 'tier_price1': '0.0000', 'tier_quantity2': 0, 'tier_price2': '0.0000', 'tier_quantity3': 0, 'tier_price3': '0.0000', 'my_weight': '0.0000'}, {'inventory_id': 440956309, 'item': {'no': '22385', 'name': 'Tile, Modified 2 x 3 Pentagonal', 'type': 'PART', 'category_id': 38}, 'color_id': 63, 'color_name': 'Dark Blue', 'quantity': 20, 'new_or_used': 'N', 'unit_price': '0.1400', 'bind_id': 0, 'description': 'Good Condition', 'remarks': '76154', 'bulk': 1, 'is_retain': True, 'is_stock_room': False, 'date_created': '2024-11-09T05:00:00.000Z', 'my_cost': '0.0000', 'sale_rate': -500, 'tier_quantity1': 0, 'tier_price1': '0.0000', 'tier_quantity2': 0, 'tier_price2': '0.0000', 'tier_quantity3': 0, 'tier_price3': '0.0000', 'my_weight': '0.0000'}, {'inventory_id': 440956292, 'item': {'no': '24201', 'name': 'Slope, Curved 2 x 1 x 2/3 Inverted', 'type': 'PART', 'category_id': 438}, 'color_id': 11, 'color_name': 'Black', 'quantity': 30, 'new_or_used': 'N', 'unit_price': '0.1100', 'bind_id': 0, 'description': 'Good Condition', 'remarks': '76154', 'bulk': 1, 'is_retain': True, 'is_stock_room': False, 'date_created': '2024-11-09T05:00:00.000Z', 'my_cost': '0.0000', 'sale_rate': -500, 'tier_quantity1': 0, 'tier_price1': '0.0000', 'tier_quantity2': 0, 'tier_price2': '0.0000', 'tier_quantity3': 0, 'tier_price3': '0.0000', 'my_weight': '0.0000'}, {'inventory_id': 440956175, 'item': {'no': '24201', 'name': 'Slope, Curved 2 x 1 x 2/3 Inverted', 'type': 'PART', 'category_id': 438}, 'color_id': 86, 'color_name': 'Light Bluish Gray', 'quantity': 2, 'new_or_used': 'N', 'unit_price': '0.0800', 'bind_id': 0, 'description': 'Good Condition', 'remarks': '76111', 'bulk': 1, 'is_retain': True, 'is_stock_room': False, 'date_created': '2024-11-09T05:00:00.000Z', 'my_cost': '0.0000', 'sale_rate': -500, 'tier_quantity1': 0, 'tier_price1': '0.0000', 'tier_quantity2': 0, 'tier_price2': '0.0000', 'tier_quantity3': 0, 'tier_price3': '0.0000', 'my_weight': '0.0000'}, {'inventory_id': 440956183, 'item': {'no': '23448', 'name': 'Windscreen 8 x 4 x 2 Curved with Bar Handle', 'type': 'PART', 'category_id': 115}, 'color_id': 13, 'color_name': 'Trans-Brown (Old Trans-Black)', 'quantity': 1, 'new_or_used': 'N', 'unit_price': '0.3900', 'bind_id': 0, 'description': 'Good Condition', 'remarks': '76111', 'bulk': 1, 'is_retain': True, 'is_stock_room': False, 'date_created': '2024-11-09T05:00:00.000Z', 'my_cost': '0.0000', 'sale_rate': -500, 'tier_quantity1': 0, 'tier_price1': '0.0000', 'tier_quantity2': 0, 'tier_price2': '0.0000', 'tier_quantity3': 0, 'tier_price3': '0.0000', 'my_weight': '0.0000'}, {'inventory_id': 440956147, 'item': {'no': '28192', 'name': 'Slope 45 2 x 1 with Cutout without Stud', 'type': 'PART', 'category_id': 31}, 'color_id': 85, 'color_name': 'Dark Bluish Gray', 'quantity': 4, 'new_or_used': 'N', 'unit_price': '0.0800', 'bind_id': 0, 'description': 'Good Condition', 'remarks': '76111', 'bulk': 1, 'is_retain': True, 'is_stock_room': False, 'date_created': '2024-11-09T05:00:00.000Z', 'my_cost': '0.0000', 'sale_rate': -500, 'tier_quantity1': 0, 'tier_price1': '0.0000', 'tier_quantity2': 0, 'tier_price2': '0.0000', 'tier_quantity3': 0, 'tier_price3': '0.0000', 'my_weight': '0.0000'}, {'inventory_id': 440956294, 'item': {'no': '27925', 'name': 'Tile, Round Corner 2 x 2 Macaroni', 'type': 'PART', 'category_id': 117}, 'color_id': 11, 'color_name': 'Black', 'quantity': 20, 'new_or_used': 'N', 'unit_price': '0.1500', 'bind_id': 0, 'description': 'Good Condition', 'remarks': '76154', 'bulk': 1, 'is_retain': True, 'is_stock_room': False, 'date_created': '2024-11-09T05:00:00.000Z', 'my_cost': '0.0000', 'sale_rate': -500, 'tier_quantity1': 0, 'tier_price1': '0.0000', 'tier_quantity2': 0, 'tier_price2': '0.0000', 'tier_quantity3': 0, 'tier_price3': '0.0000', 'my_weight': '0.0000'}, {'inventory_id': 440956287, 'item': {'no': '27261', 'name': 'Plate, Modified 1 x 2 with 3 Claws / Rock Fingers', 'type': 'PART', 'category_id': 27}, 'color_id': 11, 'color_name': 'Black', 'quantity': 30, 'new_or_used': 'N', 'unit_price': '0.0800', 'bind_id': 0, 'description': 'Good Condition', 'remarks': '76154', 'bulk': 1, 'is_retain': True, 'is_stock_room': False, 'date_created': '2024-11-09T05:00:00.000Z', 'my_cost': '0.0000', 'sale_rate': -500, 'tier_quantity1': 0, 'tier_price1': '0.0000', 'tier_quantity2': 0, 'tier_price2': '0.0000', 'tier_quantity3': 0, 'tier_price3': '0.0000', 'my_weight': '0.0000'}, {'inventory_id': 440956322, 'item': {'no': '29119', 'name': 'Wedge 2 x 1 x 2/3 Right', 'type': 'PART', 'category_id': 42}, 'color_id': 59, 'color_name': 'Dark Red', 'quantity': 10, 'new_or_used': 'N', 'unit_price': '0.1500', 'bind_id': 0, 'description': 'Good Condition', 'remarks': '76154', 'bulk': 1, 'is_retain': True, 'is_stock_room': False, 'date_created': '2024-11-09T05:00:00.000Z', 'my_cost': '0.0000', 'sale_rate': -500, 'tier_quantity1': 0, 'tier_price1': '0.0000', 'tier_quantity2': 0, 'tier_price2': '0.0000', 'tier_quantity3': 0, 'tier_price3': '0.0000', 'my_weight': '0.0000'}, {'inventory_id': 440956321, 'item': {'no': '29120', 'name': 'Wedge 2 x 1 x 2/3 Left', 'type': 'PART', 'category_id': 42}, 'color_id': 59, 'color_name': 'Dark Red', 'quantity': 10, 'new_or_used': 'N', 'unit_price': '0.1500', 'bind_id': 0, 'description': 'Good Condition', 'remarks': '76154', 'bulk': 1, 'is_retain': True, 'is_stock_room': False, 'date_created': '2024-11-09T05:00:00.000Z', 'my_cost': '0.0000', 'sale_rate': -500, 'tier_quantity1': 0, 'tier_price1': '0.0000', 'tier_quantity2': 0, 'tier_price2': '0.0000', 'tier_quantity3': 0, 'tier_price3': '0.0000', 'my_weight': '0.0000'}, {'inventory_id': 440956189, 'item': {'no': '27393', 'name': 'Wave Rounded Energy with Bar Handle &#40;Power Blast&#41;', 'type': 'PART', 'category_id': 994}, 'color_id': 17, 'color_name': 'Trans-Red', 'quantity': 2, 'new_or_used': 'N', 'unit_price': '0.8800', 'bind_id': 0, 'description': 'Good Condition', 'remarks': '76111', 'bulk': 1, 'is_retain': True, 'is_stock_room': False, 'date_created': '2024-11-09T05:00:00.000Z', 'my_cost': '0.0000', 'sale_rate': -500, 'tier_quantity1': 0, 'tier_price1': '0.0000', 'tier_quantity2': 0, 'tier_price2': '0.0000', 'tier_quantity3': 0, 'tier_price3': '0.0000', 'my_weight': '0.0000'}, {'inventory_id': 440956343, 'item': {'no': '27393', 'name': 'Wave Rounded Energy with Bar Handle &#40;Power Blast&#41;', 'type': 'PART', 'category_id': 994}, 'color_id': 98, 'color_name': 'Trans-Orange', 'quantity': 20, 'new_or_used': 'N', 'unit_price': '0.1000', 'bind_id': 0, 'description': 'Good Condition', 'remarks': '76154', 'bulk': 1, 'is_retain': True, 'is_stock_room': False, 'date_created': '2024-11-09T05:00:00.000Z', 'my_cost': '0.0000', 'sale_rate': -500, 'tier_quantity1': 0, 'tier_price1': '0.0000', 'tier_quantity2': 0, 'tier_price2': '0.0000', 'tier_quantity3': 0, 'tier_price3': '0.0000', 'my_weight': '0.0000'}, {'inventory_id': 440956129, 'item': {'no': '29115', 'name': 'Wedge 6 x 6 Triple Inverted', 'type': 'PART', 'category_id': 42}, 'color_id': 11, 'color_name': 'Black', 'quantity': 2, 'new_or_used': 'N', 'unit_price': '0.1400', 'bind_id': 0, 'description': 'Good Condition', 'remarks': '76111', 'bulk': 1, 'is_retain': True, 'is_stock_room': False, 'date_created': '2024-11-09T05:00:00.000Z', 'my_cost': '0.0000', 'sale_rate': -500, 'tier_quantity1': 0, 'tier_price1': '0.0000', 'tier_quantity2': 0, 'tier_price2': '0.0000', 'tier_quantity3': 0, 'tier_price3': '0.0000', 'my_weight': '0.0000'}, {'inventory_id': 440956120, 'item': {'no': '34103', 'name': 'Plate, Modified 1 x 3 with 2 Studs &#40;Double Jumper&#41;', 'type': 'PART', 'category_id': 27}, 'color_id': 11, 'color_name': 'Black', 'quantity': 2, 'new_or_used': 'N', 'unit_price': '0.1300', 'bind_id': 0, 'description': 'Good Condition', 'remarks': '76111', 'bulk': 1, 'is_retain': True, 'is_stock_room': False, 'date_created': '2024-11-09T05:00:00.000Z', 'my_cost': '0.0000', 'sale_rate': -500, 'tier_quantity1': 0, 'tier_price1': '0.0000', 'tier_quantity2': 0, 'tier_price2': '0.0000', 'tier_quantity3': 0, 'tier_price3': '0.0000', 'my_weight': '0.0000'}, {'inventory_id': 440956146, 'item': {'no': '85984pb176', 'name': 'Slope 30 1 x 2 x 2/3 with Green Gauges and Radar Screen on Black Background Pattern', 'type': 'PART', 'category_id': 33}, 'color_id': 85, 'color_name': 'Dark Bluish Gray', 'quantity': 2, 'new_or_used': 'N', 'unit_price': '0.3100', 'bind_id': 0, 'description': 'Good Condition', 'remarks': '76111', 'bulk': 1, 'is_retain': True, 'is_stock_room': False, 'date_created': '2024-11-09T05:00:00.000Z', 'my_cost': '0.0000', 'sale_rate': -500, 'tier_quantity1': 0, 'tier_price1': '0.0000', 'tier_quantity2': 0, 'tier_price2': '0.0000', 'tier_quantity3': 0, 'tier_price3': '0.0000', 'my_weight': '0.0000'}, {'inventory_id': 440956315, 'item': {'no': '30166', 'name': 'Plate, Modified 2 x 3 Inverted with 4 Studs and Bar Handle on Bottom &#40;Rocker Plate&#41;', 'type': 'PART', 'category_id': 27}, 'color_id': 59, 'color_name': 'Dark Red', 'quantity': 10, 'new_or_used': 'N', 'unit_price': '0.2200', 'bind_id': 0, 'description': 'Good Condition', 'remarks': '76154', 'bulk': 1, 'is_retain': True, 'is_stock_room': False, 'date_created': '2024-11-09T05:00:00.000Z', 'my_cost': '0.0000', 'sale_rate': -500, 'tier_quantity1': 0, 'tier_price1': '0.0000', 'tier_quantity2': 0, 'tier_price2': '0.0000', 'tier_quantity3': 0, 'tier_price3': '0.0000', 'my_weight': '0.0000'}, {'inventory_id': 440956303, 'item': {'no': '35480', 'name': 'Plate, Round 1 x 2 with Open Studs', 'type': 'PART', 'category_id': 28}, 'color_id': 63, 'color_name': 'Dark Blue', 'quantity': 20, 'new_or_used': 'N', 'unit_price': '0.1600', 'bind_id': 0, 'description': 'Good Condition', 'remarks': '76154', 'bulk': 1, 'is_retain': True, 'is_stock_room': False, 'date_created': '2024-11-09T05:00:00.000Z', 'my_cost': '0.0000', 'sale_rate': -500, 'tier_quantity1': 0, 'tier_price1': '0.0000', 'tier_quantity2': 0, 'tier_price2': '0.0000', 'tier_quantity3': 0, 'tier_price3': '0.0000', 'my_weight': '0.0000'}, {'inventory_id': 440956316, 'item': {'no': '35044', 'name': 'Plate, Modified 4 x 4 with 3 x 3 Curved Cutout', 'type': 'PART', 'category_id': 27}, 'color_id': 59, 'color_name': 'Dark Red', 'quantity': 40, 'new_or_used': 'N', 'unit_price': '0.2600', 'bind_id': 0, 'description': 'Good Condition', 'remarks': '76154', 'bulk': 1, 'is_retain': True, 'is_stock_room': False, 'date_created': '2024-11-09T05:00:00.000Z', 'my_cost': '0.0000', 'sale_rate': -500, 'tier_quantity1': 0, 'tier_price1': '0.0000', 'tier_quantity2': 0, 'tier_price2': '0.0000', 'tier_quantity3': 0, 'tier_price3': '0.0000', 'my_weight': '0.0000'}, {'inventory_id': 440956197, 'item': {'no': '76111-1', 'name': 'Batman: Brother Eye Takedown', 'type': 'INSTRUCTION', 'category_id': 768}, 'color_id': 0, 'color_name': '(Not Applicable)', 'quantity': 1, 'new_or_used': 'N', 'unit_price': '0.3900', 'bind_id': 0, 'description': 'Good Condition', 'remarks': '76111', 'bulk': 1, 'is_retain': True, 'is_stock_room': False, 'date_created': '2024-11-09T05:00:00.000Z', 'my_cost': '0.0000', 'sale_rate': -500, 'tier_quantity1': 0, 'tier_price1': '0.0000', 'tier_quantity2': 0, 'tier_price2': '0.0000', 'tier_quantity3': 0, 'tier_price3': '0.0000', 'my_weight': '0.0000'}, {'inventory_id': 440956340, 'item': {'no': '35787', 'name': 'Tile, Modified 2 x 2 Triangular', 'type': 'PART', 'category_id': 38}, 'color_id': 48, 'color_name': 'Sand Green', 'quantity': 20, 'new_or_used': 'N', 'unit_price': '0.1800', 'bind_id': 0, 'description': 'Good Condition', 'remarks': '76154', 'bulk': 1, 'is_retain': True, 'is_stock_room': False, 'date_created': '2024-11-09T05:00:00.000Z', 'my_cost': '0.0000', 'sale_rate': -500, 'tier_quantity1': 0, 'tier_price1': '0.0000', 'tier_quantity2': 0, 'tier_price2': '0.0000', 'tier_quantity3': 0, 'tier_price3': '0.0000', 'my_weight': '0.0000'}, {'inventory_id': 440956195, 'item': {'no': 'sh0522', 'name': 'Batwoman', 'type': 'MINIFIG', 'category_id': 768}, 'color_id': 0, 'color_name': '(Not Applicable)', 'quantity': 1, 'new_or_used': 'N', 'unit_price': '26.8600', 'bind_id': 0, 'description': 'Good Condition', 'remarks': '76111', 'bulk': 1, 'is_retain': True, 'is_stock_room': False, 'date_created': '2024-11-09T05:00:00.000Z', 'my_cost': '0.0000', 'sale_rate': -500, 'tier_quantity1': 0, 'tier_price1': '0.0000', 'tier_quantity2': 0, 'tier_price2': '0.0000', 'tier_quantity3': 0, 'tier_price3': '0.0000', 'my_weight': '0.0000'}, {'inventory_id': 440956196, 'item': {'no': 'sh0523', 'name': 'OMAC', 'type': 'MINIFIG', 'category_id': 768}, 'color_id': 0, 'color_name': '(Not Applicable)', 'quantity': 1, 'new_or_used': 'N', 'unit_price': '10.7200', 'bind_id': 0, 'description': 'Good Condition', 'remarks': '76111', 'bulk': 1, 'is_retain': True, 'is_stock_room': False, 'date_created': '2024-11-09T05:00:00.000Z', 'my_cost': '0.0000', 'sale_rate': -500, 'tier_quantity1': 0, 'tier_price1': '0.0000', 'tier_quantity2': 0, 'tier_price2': '0.0000', 'tier_quantity3': 0, 'tier_price3': '0.0000', 'my_weight': '0.0000'}, {'inventory_id': 440956177, 'item': {'no': '37720', 'name': 'Minifigure, Weapon Pack Batman, 11 in Bag &#40;Multipack&#41;', 'type': 'PART', 'category_id': 19}, 'color_id': 249, 'color_name': 'Reddish Copper', 'quantity': 1, 'new_or_used': 'N', 'unit_price': '2.2700', 'bind_id': 0, 'description': 'Good Condition', 'remarks': '76111', 'bulk': 1, 'is_retain': True, 'is_stock_room': False, 'date_created': '2024-11-09T05:00:00.000Z', 'my_cost': '0.0000', 'sale_rate': -500, 'tier_quantity1': 0, 'tier_price1': '0.0000', 'tier_quantity2': 0, 'tier_price2': '0.0000', 'tier_quantity3': 0, 'tier_price3': '0.0000', 'my_weight': '0.0000'}, {'inventory_id': 440956194, 'item': {'no': 'sh0531', 'name': 'Batman, Medium Nougat Face, Light Bluish Gray Suit', 'type': 'MINIFIG', 'category_id': 768}, 'color_id': 0, 'color_name': '(Not Applicable)', 'quantity': 1, 'new_or_used': 'N', 'unit_price': '5.7100', 'bind_id': 0, 'description': 'Good Condition', 'remarks': '76111', 'bulk': 1, 'is_retain': True, 'is_stock_room': False, 'date_created': '2024-11-09T05:00:00.000Z', 'my_cost': '0.0000', 'sale_rate': -500, 'tier_quantity1': 0, 'tier_price1': '0.0000', 'tier_quantity2': 0, 'tier_price2': '0.0000', 'tier_quantity3': 0, 'tier_price3': '0.0000', 'my_weight': '0.0000'}, {'inventory_id': 440956190, 'item': {'no': '3960pb059', 'name': 'Dish 4 x 4 Inverted &#40;Radar&#41; with Solid Stud with Brother Eye White Eyelids with Dark Bluish Gray Stripes, Black Circuitry Iris Pattern', 'type': 'PART', 'category_id': 779}, 'color_id': 19, 'color_name': 'Trans-Yellow', 'quantity': 1, 'new_or_used': 'N', 'unit_price': '0.6200', 'bind_id': 0, 'description': 'Good Condition', 'remarks': '76111', 'bulk': 1, 'is_retain': True, 'is_stock_room': False, 'date_created': '2024-11-09T05:00:00.000Z', 'my_cost': '0.0000', 'sale_rate': -500, 'tier_quantity1': 0, 'tier_price1': '0.0000', 'tier_quantity2': 0, 'tier_price2': '0.0000', 'tier_quantity3': 0, 'tier_price3': '0.0000', 'my_weight': '0.0000'}, {'inventory_id': 440956329, 'item': {'no': '68568', 'name': 'Plate, Round Corner 3 x 3 with 2 x 2 Curved Cutout', 'type': 'PART', 'category_id': 28}, 'color_id': 39, 'color_name': 'Dark Turquoise', 'quantity': 100, 'new_or_used': 'N', 'unit_price': '0.1200', 'bind_id': 0, 'description': 'Good Condition', 'remarks': '76154', 'bulk': 1, 'is_retain': True, 'is_stock_room': False, 'date_created': '2024-11-09T05:00:00.000Z', 'my_cost': '0.0000', 'sale_rate': -500, 'tier_quantity1': 0, 'tier_price1': '0.0000', 'tier_quantity2': 0, 'tier_price2': '0.0000', 'tier_quantity3': 0, 'tier_price3': '0.0000', 'my_weight': '0.0000'}, {'inventory_id': 440956295, 'item': {'no': '66956', 'name': 'Wedge 2 x 2 x 2/3 Pointed', 'type': 'PART', 'category_id': 42}, 'color_id': 11, 'color_name': 'Black', 'quantity': 10, 'new_or_used': 'N', 'unit_price': '0.1600', 'bind_id': 0, 'description': 'Good Condition', 'remarks': '76154', 'bulk': 1, 'is_retain': True, 'is_stock_room': False, 'date_created': '2024-11-09T05:00:00.000Z', 'my_cost': '0.0000', 'sale_rate': -500, 'tier_quantity1': 0, 'tier_price1': '0.0000', 'tier_quantity2': 0, 'tier_price2': '0.0000', 'tier_quantity3': 0, 'tier_price3': '0.0000', 'my_weight': '0.0000'}, {'inventory_id': 440956288, 'item': {'no': '44861', 'name': 'Plate, Modified 1 x 2 with Open O Clip on Top', 'type': 'PART', 'category_id': 27}, 'color_id': 11, 'color_name': 'Black', 'quantity': 40, 'new_or_used': 'N', 'unit_price': '0.0300', 'bind_id': 0, 'description': 'Good Condition', 'remarks': '76154', 'bulk': 1, 'is_retain': True, 'is_stock_room': False, 'date_created': '2024-11-09T05:00:00.000Z', 'my_cost': '0.0000', 'sale_rate': -500, 'tier_quantity1': 0, 'tier_price1': '0.0000', 'tier_quantity2': 0, 'tier_price2': '0.0000', 'tier_quantity3': 0, 'tier_price3': '0.0000', 'my_weight': '0.0000'}, {'inventory_id': 440956342, 'item': {'no': '69858', 'name': 'Wave Rounded Curved Single with Bar End &#40;Flame, Sword&#41;', 'type': 'PART', 'category_id': 994}, 'color_id': 229, 'color_name': 'Satin Trans-Brown', 'quantity': 100, 'new_or_used': 'N', 'unit_price': '0.0800', 'bind_id': 0, 'description': 'Good Condition', 'remarks': '76154', 'bulk': 1, 'is_retain': True, 'is_stock_room': False, 'date_created': '2024-11-09T05:00:00.000Z', 'my_cost': '0.0000', 'sale_rate': -500, 'tier_quantity1': 0, 'tier_price1': '0.0000', 'tier_quantity2': 0, 'tier_price2': '0.0000', 'tier_quantity3': 0, 'tier_price3': '0.0000', 'my_weight': '0.0000'}, {'inventory_id': 440956348, 'item': {'no': '76154-1', 'name': 'Deviant Ambush!', 'type': 'INSTRUCTION', 'category_id': 768}, 'color_id': 0, 'color_name': '(Not Applicable)', 'quantity': 10, 'new_or_used': 'N', 'unit_price': '0.2800', 'bind_id': 0, 'description': 'Good Condition', 'remarks': '76154', 'bulk': 1, 'is_retain': True, 'is_stock_room': False, 'date_created': '2024-11-09T05:00:00.000Z', 'my_cost': '0.0000', 'sale_rate': -500, 'tier_quantity1': 0, 'tier_price1': '0.0000', 'tier_quantity2': 0, 'tier_price2': '0.0000', 'tier_quantity3': 0, 'tier_price3': '0.0000', 'my_weight': '0.0000'}, {'inventory_id': 440956347, 'item': {'no': 'sh0766', 'name': 'Thena', 'type': 'MINIFIG', 'category_id': 768}, 'color_id': 0, 'color_name': '(Not Applicable)', 'quantity': 10, 'new_or_used': 'N', 'unit_price': '4.1900', 'bind_id': 0, 'description': 'Good Condition', 'remarks': '76154', 'bulk': 1, 'is_retain': True, 'is_stock_room': False, 'date_created': '2024-11-09T05:00:00.000Z', 'my_cost': '0.0000', 'sale_rate': -500, 'tier_quantity1': 0, 'tier_price1': '0.0000', 'tier_quantity2': 0, 'tier_price2': '0.0000', 'tier_quantity3': 0, 'tier_price3': '0.0000', 'my_weight': '0.0000'}, {'inventory_id': 440956283, 'item': {'no': '76154stk01', 'name': 'Sticker Sheet for Set 76154 - &#40;69941/6319544&#41;', 'type': 'PART', 'category_id': 160}, 'color_id': 0, 'color_name': '(Not Applicable)', 'quantity': 10, 'new_or_used': 'N', 'unit_price': '0.5100', 'bind_id': 0, 'description': 'Good Condition', 'remarks': '76154', 'bulk': 1, 'is_retain': True, 'is_stock_room': False, 'date_created': '2024-11-09T05:00:00.000Z', 'my_cost': '0.0000', 'sale_rate': -500, 'tier_quantity1': 0, 'tier_price1': '0.0000', 'tier_quantity2': 0, 'tier_price2': '0.0000', 'tier_quantity3': 0, 'tier_price3': '0.0000', 'my_weight': '0.0000'}, {'inventory_id': 440956306, 'item': {'no': '11477pb125', 'name': 'Slope, Curved 2 x 1 x 2/3 with 2 White Eyes, Dark Turquoise Highlights Pattern', 'type': 'PART', 'category_id': 775}, 'color_id': 63, 'color_name': 'Dark Blue', 'quantity': 20, 'new_or_used': 'N', 'unit_price': '0.1300', 'bind_id': 0, 'description': 'Good Condition', 'remarks': '76154', 'bulk': 1, 'is_retain': True, 'is_stock_room': False, 'date_created': '2024-11-09T05:00:00.000Z', 'my_cost': '0.0000', 'sale_rate': -500, 'tier_quantity1': 0, 'tier_price1': '0.0000', 'tier_quantity2': 0, 'tier_price2': '0.0000', 'tier_quantity3': 0, 'tier_price3': '0.0000', 'my_weight': '0.0000'}, {'inventory_id': 440956336, 'item': {'no': '69728pb01', 'name': 'Hand Gorilla Fist with Marbled Trans-Orange Flames Pattern &#40;fits Minifigure Hand&#41;', 'type': 'PART', 'category_id': 20}, 'color_id': 115, 'color_name': 'Pearl Gold', 'quantity': 20, 'new_or_used': 'N', 'unit_price': '0.4100', 'bind_id': 0, 'description': 'Good Condition', 'remarks': '76154', 'bulk': 1, 'is_retain': True, 'is_stock_room': False, 'date_created': '2024-11-09T05:00:00.000Z', 'my_cost': '0.0000', 'sale_rate': -500, 'tier_quantity1': 0, 'tier_price1': '0.0000', 'tier_quantity2': 0, 'tier_price2': '0.0000', 'tier_quantity3': 0, 'tier_price3': '0.0000', 'my_weight': '0.0000'}, {'inventory_id': 440956105, 'item': {'no': '2569', 'name': 'Antenna Whip 8H', 'type': 'PART', 'category_id': 1}, 'color_id': 11, 'color_name': 'Black', 'quantity': 4, 'new_or_used': 'N', 'unit_price': '0.1300', 'bind_id': 0, 'description': 'Good Condition', 'remarks': '76111', 'bulk': 1, 'is_retain': True, 'is_stock_room': False, 'date_created': '2024-11-09T05:00:00.000Z', 'my_cost': '0.0000', 'sale_rate': -500, 'tier_quantity1': 0, 'tier_price1': '0.0000', 'tier_quantity2': 0, 'tier_price2': '0.0000', 'tier_quantity3': 0, 'tier_price3': '0.0000', 'my_weight': '0.0000'}, {'inventory_id': 440956291, 'item': {'no': '2654', 'name': 'Plate, Round 2 x 2 with Rounded Bottom (Boat Stud)', 'type': 'PART', 'category_id': 28}, 'color_id': 11, 'color_name': 'Black', 'quantity': 40, 'new_or_used': 'N', 'unit_price': '0.0400', 'bind_id': 0, 'description': 'Good Condition', 'remarks': '76154', 'bulk': 1, 'is_retain': True, 'is_stock_room': False, 'date_created': '2024-11-09T05:00:00.000Z', 'my_cost': '0.0000', 'sale_rate': -500, 'tier_quantity1': 0, 'tier_price1': '0.0000', 'tier_quantity2': 0, 'tier_price2': '0.0000', 'tier_quantity3': 0, 'tier_price3': '0.0000', 'my_weight': '0.0000'}, {'inventory_id': 440956172, 'item': {'no': '2654', 'name': 'Plate, Round 2 x 2 with Rounded Bottom (Boat Stud)', 'type': 'PART', 'category_id': 28}, 'color_id': 86, 'color_name': 'Light Bluish Gray', 'quantity': 3, 'new_or_used': 'N', 'unit_price': '0.0400', 'bind_id': 0, 'description': 'Good Condition', 'remarks': '76111', 'bulk': 1, 'is_retain': True, 'is_stock_room': False, 'date_created': '2024-11-09T05:00:00.000Z', 'my_cost': '0.0000', 'sale_rate': -500, 'tier_quantity1': 0, 'tier_price1': '0.0000', 'tier_quantity2': 0, 'tier_price2': '0.0000', 'tier_quantity3': 0, 'tier_price3': '0.0000', 'my_weight': '0.0000'}, {'inventory_id': 440956332, 'item': {'no': '3001', 'name': 'Brick 2 x 4', 'type': 'PART', 'category_id': 5}, 'color_id': 86, 'color_name': 'Light Bluish Gray', 'quantity': 10, 'new_or_used': 'N', 'unit_price': '0.1900', 'bind_id': 0, 'description': 'Good Condition', 'remarks': '76154', 'bulk': 1, 'is_retain': True, 'is_stock_room': False, 'date_created': '2024-11-09T05:00:00.000Z', 'my_cost': '0.0000', 'sale_rate': -500, 'tier_quantity1': 0, 'tier_price1': '0.0000', 'tier_quantity2': 0, 'tier_price2': '0.0000', 'tier_quantity3': 0, 'tier_price3': '0.0000', 'my_weight': '0.0000'}, {'inventory_id': 440956298, 'item': {'no': '3003', 'name': 'Brick 2 x 2', 'type': 'PART', 'category_id': 5}, 'color_id': 63, 'color_name': 'Dark Blue', 'quantity': 30, 'new_or_used': 'N', 'unit_price': '0.1000', 'bind_id': 0, 'description': 'Good Condition', 'remarks': '76154', 'bulk': 1, 'is_retain': True, 'is_stock_room': False, 'date_created': '2024-11-09T05:00:00.000Z', 'my_cost': '0.0000', 'sale_rate': -500, 'tier_quantity1': 0, 'tier_price1': '0.0000', 'tier_quantity2': 0, 'tier_price2': '0.0000', 'tier_quantity3': 0, 'tier_price3': '0.0000', 'my_weight': '0.0000'}, {'inventory_id': 440956192, 'item': {'no': '3004', 'name': 'Brick 1 x 2', 'type': 'PART', 'category_id': 5}, 'color_id': 3, 'color_name': 'Yellow', 'quantity': 2, 'new_or_used': 'N', 'unit_price': '0.0400', 'bind_id': 0, 'description': 'Good Condition', 'remarks': '76111', 'bulk': 1, 'is_retain': True, 'is_stock_room': False, 'date_created': '2024-11-09T05:00:00.000Z', 'my_cost': '0.0000', 'sale_rate': -500, 'tier_quantity1': 0, 'tier_price1': '0.0000', 'tier_quantity2': 0, 'tier_price2': '0.0000', 'tier_quantity3': 0, 'tier_price3': '0.0000', 'my_weight': '0.0000'}, {'inventory_id': 440956109, 'item': {'no': '3004', 'name': 'Brick 1 x 2', 'type': 'PART', 'category_id': 5}, 'color_id': 11, 'color_name': 'Black', 'quantity': 2, 'new_or_used': 'N', 'unit_price': '0.0700', 'bind_id': 0, 'description': 'Good Condition', 'remarks': '76111', 'bulk': 1, 'is_retain': True, 'is_stock_room': False, 'date_created': '2024-11-09T05:00:00.000Z', 'my_cost': '0.0000', 'sale_rate': -500, 'tier_quantity1': 0, 'tier_price1': '0.0000', 'tier_quantity2': 0, 'tier_price2': '0.0000', 'tier_quantity3': 0, 'tier_price3': '0.0000', 'my_weight': '0.0000'}, {'inventory_id': 440956293, 'item': {'no': '25269', 'name': 'Tile, Round 1 x 1 Quarter', 'type': 'PART', 'category_id': 117}, 'color_id': 11, 'color_name': 'Black', 'quantity': 30, 'new_or_used': 'N', 'unit_price': '0.0500', 'bind_id': 0, 'description': 'Good Condition', 'remarks': '76154', 'bulk': 1, 'is_retain': True, 'is_stock_room': False, 'date_created': '2024-11-09T05:00:00.000Z', 'my_cost': '0.0000', 'sale_rate': -500, 'tier_quantity1': 0, 'tier_price1': '0.0000', 'tier_quantity2': 0, 'tier_price2': '0.0000', 'tier_quantity3': 0, 'tier_price3': '0.0000', 'my_weight': '0.0000'}, {'inventory_id': 440956338, 'item': {'no': '26047', 'name': 'Plate, Round 1 x 1 with Bar Handle', 'type': 'PART', 'category_id': 28}, 'color_id': 115, 'color_name': 'Pearl Gold', 'quantity': 40, 'new_or_used': 'N', 'unit_price': '0.0600', 'bind_id': 0, 'description': 'Good Condition', 'remarks': '76154', 'bulk': 1, 'is_retain': True, 'is_stock_room': False, 'date_created': '2024-11-09T05:00:00.000Z', 'my_cost': '0.0000', 'sale_rate': -500, 'tier_quantity1': 0, 'tier_price1': '0.0000', 'tier_quantity2': 0, 'tier_price2': '0.0000', 'tier_quantity3': 0, 'tier_price3': '0.0000', 'my_weight': '0.0000'}, {'inventory_id': 440956318, 'item': {'no': '32803', 'name': 'Slope, Curved 2 x 2 x 2/3 Inverted', 'type': 'PART', 'category_id': 438}, 'color_id': 59, 'color_name': 'Dark Red', 'quantity': 60, 'new_or_used': 'N', 'unit_price': '0.1900', 'bind_id': 0, 'description': 'Good Condition', 'remarks': '76154', 'bulk': 1, 'is_retain': True, 'is_stock_room': False, 'date_created': '2024-11-09T05:00:00.000Z', 'my_cost': '0.0000', 'sale_rate': -500, 'tier_quantity1': 0, 'tier_price1': '0.0000', 'tier_quantity2': 0, 'tier_price2': '0.0000', 'tier_quantity3': 0, 'tier_price3': '0.0000', 'my_weight': '0.0000'}, {'inventory_id': 440956161, 'item': {'no': '23443', 'name': 'Bar Holder with Handle', 'type': 'PART', 'category_id': 46}, 'color_id': 86, 'color_name': 'Light Bluish Gray', 'quantity': 1, 'new_or_used': 'N', 'unit_price': '0.1400', 'bind_id': 0, 'description': 'Good Condition', 'remarks': '76111', 'bulk': 1, 'is_retain': True, 'is_stock_room': False, 'date_created': '2024-11-09T05:00:00.000Z', 'my_cost': '0.0000', 'sale_rate': -500, 'tier_quantity1': 0, 'tier_price1': '0.0000', 'tier_quantity2': 0, 'tier_price2': '0.0000', 'tier_quantity3': 0, 'tier_price3': '0.0000', 'my_weight': '0.0000'}, {'inventory_id': 440956335, 'item': {'no': '23443', 'name': 'Bar Holder with Handle', 'type': 'PART', 'category_id': 46}, 'color_id': 115, 'color_name': 'Pearl Gold', 'quantity': 40, 'new_or_used': 'N', 'unit_price': '0.1000', 'bind_id': 0, 'description': 'Good Condition', 'remarks': '76154', 'bulk': 1, 'is_retain': True, 'is_stock_room': False, 'date_created': '2024-11-09T05:00:00.000Z', 'my_cost': '0.0000', 'sale_rate': -500, 'tier_quantity1': 0, 'tier_price1': '0.0000', 'tier_quantity2': 0, 'tier_price2': '0.0000', 'tier_quantity3': 0, 'tier_price3': '0.0000', 'my_weight': '0.0000'}, {'inventory_id': 440956345, 'item': {'no': 'sh0768', 'name': 'Gilgamesh', 'type': 'MINIFIG', 'category_id': 768}, 'color_id': 0, 'color_name': '(Not Applicable)', 'quantity': 10, 'new_or_used': 'N', 'unit_price': '5.7500', 'bind_id': 0, 'description': 'Good Condition', 'remarks': '76154', 'bulk': 1, 'is_retain': True, 'is_stock_room': False, 'date_created': '2024-11-09T05:00:00.000Z', 'my_cost': '0.0000', 'sale_rate': -500, 'tier_quantity1': 0, 'tier_price1': '0.0000', 'tier_quantity2': 0, 'tier_price2': '0.0000', 'tier_quantity3': 0, 'tier_price3': '0.0000', 'my_weight': '0.0000'}, {'inventory_id': 440956346, 'item': {'no': 'sh0767', 'name': 'Makkari', 'type': 'MINIFIG', 'category_id': 768}, 'color_id': 0, 'color_name': '(Not Applicable)', 'quantity': 10, 'new_or_used': 'N', 'unit_price': '3.8600', 'bind_id': 0, 'description': 'Good Condition', 'remarks': '76154', 'bulk': 1, 'is_retain': True, 'is_stock_room': False, 'date_created': '2024-11-09T05:00:00.000Z', 'my_cost': '0.0000', 'sale_rate': -500, 'tier_quantity1': 0, 'tier_price1': '0.0000', 'tier_quantity2': 0, 'tier_price2': '0.0000', 'tier_quantity3': 0, 'tier_price3': '0.0000', 'my_weight': '0.0000'}, {'inventory_id': 440956156, 'item': {'no': '92220', 'name': 'Hero Factory Weapon, Claw with Clip', 'type': 'PART', 'category_id': 749}, 'color_id': 95, 'color_name': 'Flat Silver', 'quantity': 2, 'new_or_used': 'N', 'unit_price': '0.1200', 'bind_id': 0, 'description': 'Good Condition', 'remarks': '76111', 'bulk': 1, 'is_retain': True, 'is_stock_room': False, 'date_created': '2024-11-09T05:00:00.000Z', 'my_cost': '0.0000', 'sale_rate': -500, 'tier_quantity1': 0, 'tier_price1': '0.0000', 'tier_quantity2': 0, 'tier_price2': '0.0000', 'tier_quantity3': 0, 'tier_price3': '0.0000', 'my_weight': '0.0000'}, {'inventory_id': 440956185, 'item': {'no': '98138', 'name': 'Tile, Round 1 x 1', 'type': 'PART', 'category_id': 117}, 'color_id': 12, 'color_name': 'Trans-Clear', 'quantity': 3, 'new_or_used': 'N', 'unit_price': '0.0400', 'bind_id': 0, 'description': 'Good Condition', 'remarks': '76111', 'bulk': 1, 'is_retain': True, 'is_stock_room': False, 'date_created': '2024-11-09T05:00:00.000Z', 'my_cost': '0.0000', 'sale_rate': -500, 'tier_quantity1': 0, 'tier_price1': '0.0000', 'tier_quantity2': 0, 'tier_price2': '0.0000', 'tier_quantity3': 0, 'tier_price3': '0.0000', 'my_weight': '0.0000'}, {'inventory_id': 440956320, 'item': {'no': '98138', 'name': 'Tile, Round 1 x 1', 'type': 'PART', 'category_id': 117}, 'color_id': 59, 'color_name': 'Dark Red', 'quantity': 50, 'new_or_used': 'N', 'unit_price': '0.0600', 'bind_id': 0, 'description': 'Good Condition', 'remarks': '76154', 'bulk': 1, 'is_retain': True, 'is_stock_room': False, 'date_created': '2024-11-09T05:00:00.000Z', 'my_cost': '0.0000', 'sale_rate': -500, 'tier_quantity1': 0, 'tier_price1': '0.0000', 'tier_quantity2': 0, 'tier_price2': '0.0000', 'tier_quantity3': 0, 'tier_price3': '0.0000', 'my_weight': '0.0000'}, {'inventory_id': 440956155, 'item': {'no': '15362', 'name': 'Hero Factory Weapon, Claw Wide Curved', 'type': 'PART', 'category_id': 749}, 'color_id': 95, 'color_name': 'Flat Silver', 'quantity': 3, 'new_or_used': 'N', 'unit_price': '0.3400', 'bind_id': 0, 'description': 'Good Condition', 'remarks': '76111', 'bulk': 1, 'is_retain': True, 'is_stock_room': False, 'date_created': '2024-11-09T05:00:00.000Z', 'my_cost': '0.0000', 'sale_rate': -500, 'tier_quantity1': 0, 'tier_price1': '0.0000', 'tier_quantity2': 0, 'tier_price2': '0.0000', 'tier_quantity3': 0, 'tier_price3': '0.0000', 'my_weight': '0.0000'}, {'inventory_id': 440956106, 'item': {'no': '18653', 'name': 'Arch 1 x 3 x 2 Inverted', 'type': 'PART', 'category_id': 6}, 'color_id': 11, 'color_name': 'Black', 'quantity': 4, 'new_or_used': 'N', 'unit_price': '0.1300', 'bind_id': 0, 'description': 'Good Condition', 'remarks': '76111', 'bulk': 1, 'is_retain': True, 'is_stock_room': False, 'date_created': '2024-11-09T05:00:00.000Z', 'my_cost': '0.0000', 'sale_rate': -500, 'tier_quantity1': 0, 'tier_price1': '0.0000', 'tier_quantity2': 0, 'tier_price2': '0.0000', 'tier_quantity3': 0, 'tier_price3': '0.0000', 'my_weight': '0.0000'}, {'inventory_id': 440956337, 'item': {'no': '41159pb02', 'name': 'Minifigure, Weapon Naginata with Marbled Trans-Orange Pattern', 'type': 'PART', 'category_id': 19}, 'color_id': 115, 'color_name': 'Pearl Gold', 'quantity': 10, 'new_or_used': 'N', 'unit_price': '1.0600', 'bind_id': 0, 'description': 'Good Condition', 'remarks': '76154', 'bulk': 1, 'is_retain': True, 'is_stock_room': False, 'date_created': '2024-11-09T05:00:00.000Z', 'my_cost': '0.0000', 'sale_rate': -500, 'tier_quantity1': 0, 'tier_price1': '0.0000', 'tier_quantity2': 0, 'tier_price2': '0.0000', 'tier_quantity3': 0, 'tier_price3': '0.0000', 'my_weight': '0.0000'}, {'inventory_id': 440956132, 'item': {'no': '47407', 'name': 'Wedge, Plate 4 x 6', 'type': 'PART', 'category_id': 583}, 'color_id': 11, 'color_name': 'Black', 'quantity': 2, 'new_or_used': 'N', 'unit_price': '0.0500', 'bind_id': 0, 'description': 'Good Condition', 'remarks': '76111', 'bulk': 1, 'is_retain': True, 'is_stock_room': False, 'date_created': '2024-11-09T05:00:00.000Z', 'my_cost': '0.0000', 'sale_rate': -500, 'tier_quantity1': 0, 'tier_price1': '0.0000', 'tier_quantity2': 0, 'tier_price2': '0.0000', 'tier_quantity3': 0, 'tier_price3': '0.0000', 'my_weight': '0.0000'}]\n",
      "Error: 403\n",
      "2nd\n",
      "None\n"
     ]
    }
   ],
   "source": [
    "def sync_job():\n",
    "    bricklink_data = fetch_bricklink_inventory()\n",
    "    print(\"1st\")\n",
    "    print(bricklink_data)\n",
    "    brickowl_data = fetch_brickowl_inventory(\"8245b56a4db48751882052166a763cdc617a532de0fab7c8f2521fc376de5b7d\")\n",
    "    print(\"2nd\")\n",
    "    print(brickowl_data)\n",
    "    if bricklink_data and brickowl_data:\n",
    "        discrepancies = reconcile_inventory(bricklink_data, brickowl_data)\n",
    "        print(discrepancies)\n",
    "        for item in discrepancies:\n",
    "            print(item)\n",
    "            update_bricklink_inventory(item['sku'], item['brickowl_qty'])\n",
    "            print(\"success\")\n",
    "            update_brickowl_inventory(\"8245b56a4db48751882052166a763cdc617a532de0fab7c8f2521fc376de5b7d\", item['sku'], item['brickowl_qty'])\n",
    "sync_job()"
   ]
  },
  {
   "cell_type": "code",
   "execution_count": 13,
   "metadata": {},
   "outputs": [],
   "source": [
    "import unittest\n",
    "\n",
    "class TestSyncFunctions(unittest.TestCase):\n",
    "    def test_reconcile_inventory(self):\n",
    "        bricklink_data = [{'itemNo': '123', 'quantity': 5}]\n",
    "        brickowl_data = [{'sku': '123', 'quantity': 3}]\n",
    "        discrepancies = reconcile_inventory(bricklink_data, brickowl_data)\n",
    "        self.assertEqual(len(discrepancies), 1)\n",
    "        self.assertEqual(discrepancies[0]['brickowl_qty'], 3)\n",
    "\n"
   ]
  },
  {
   "cell_type": "code",
   "execution_count": 14,
   "metadata": {},
   "outputs": [
    {
     "name": "stderr",
     "output_type": "stream",
     "text": [
      ".\n",
      "----------------------------------------------------------------------\n",
      "Ran 1 test in 0.001s\n",
      "\n",
      "OK\n"
     ]
    }
   ],
   "source": [
    "import unittest\n",
    "\n",
    "if __name__ == '__main__':\n",
    "    unittest.main(argv=[''], exit=False)\n"
   ]
  },
  {
   "cell_type": "code",
   "execution_count": 8,
   "metadata": {},
   "outputs": [
    {
     "name": "stdout",
     "output_type": "stream",
     "text": [
      "Item 55706 added to BrickLink successfully.Item details {'meta': {'description': 'OK_CREATED', 'message': 'OK_CREATED', 'code': 201}, 'data': {'inventory_id': 443460971, 'item': {'no': '55706', 'name': 'Dragon Wing 8 x 10', 'type': 'PART', 'category_id': 148}, 'color_id': 2, 'quantity': 15, 'new_or_used': 'U', 'unit_price': '30.0000', 'bind_id': 0, 'remarks': '', 'bulk': 1, 'is_retain': False, 'is_stock_room': False, 'date_created': '2024-11-21T06:41:00.000Z', 'my_cost': '0.0000', 'sale_rate': 0, 'tier_quantity1': 0, 'tier_price1': '0.0000', 'tier_quantity2': 0, 'tier_price2': '0.0000', 'tier_quantity3': 0, 'tier_price3': '0.0000', 'my_weight': '0.0000'}}\n"
     ]
    }
   ],
   "source": [
    "def add_item_to_bricklink(item_no, color_id, quantity, unit_price):\n",
    "    url = \"https://api.bricklink.com/api/store/v1/inventories\"\n",
    "    payload = {\n",
    "        \"item\": {\n",
    "            \"no\": item_no,\n",
    "            \"type\": \"PART\"  # Use SET for this item\n",
    "        },\n",
    "        \"color_id\": color_id,  # For sets, you might pass a default color like 0 (no specific color)\n",
    "        \"quantity\": quantity,\n",
    "        \"new_or_used\": \"U\",  # 'N' for New, 'U' for Used\n",
    "        \"completeness\": \"C\",  # Use 'C' for Complete or 'I' for Incomplete\n",
    "        \"unit_price\": f\"{float(unit_price):.4f}\",  # Ensure price is formatted as a string\n",
    "        \"bind_id\": 0,\n",
    "        \"description\": \"\",\n",
    "        \"remarks\": \"\",\n",
    "        \"bulk\": 1,\n",
    "        \"is_retain\": False,\n",
    "        \"is_stock_room\": False,\n",
    "        \"sale_rate\": 0,\n",
    "        \"my_cost\": \"0.0000\",\n",
    "        \"tier_quantity1\": 0,\n",
    "        \"tier_price1\": \"0.0000\",\n",
    "        \"tier_quantity2\": 0,\n",
    "        \"tier_price2\": \"0.0000\",\n",
    "        \"tier_quantity3\": 0,\n",
    "        \"tier_price3\": \"0.0000\"\n",
    "    }\n",
    "    response = requests.post(url, json=payload, auth=auth)\n",
    "    if response.status_code == 200:\n",
    "        print(f\"Item {item_no} added to BrickLink successfully.Item details {response.json()}\")\n",
    "    else:\n",
    "        print(f\"Error adding item {item_no} to BrickLink: {response.status_code}, {response.json()}\")\n",
    "\n",
    "# Example Usage\n",
    "add_item_to_bricklink(\"55706\", 2, 15, 30.0)  # Add set 1435-1 with quantity 15 and price $10.0\n"
   ]
  },
  {
   "cell_type": "code",
   "execution_count": 39,
   "metadata": {},
   "outputs": [],
   "source": [
    "inventory = fetch_bricklink_inventory()\n"
   ]
  },
  {
   "cell_type": "code",
   "execution_count": 40,
   "metadata": {},
   "outputs": [],
   "source": [
    "new_item = next((item for item in inventory if item['inventory_id'] == 442270731), None)\n"
   ]
  },
  {
   "cell_type": "code",
   "execution_count": 41,
   "metadata": {},
   "outputs": [
    {
     "name": "stdout",
     "output_type": "stream",
     "text": [
      "{'inventory_id': 442270731, 'item': {'no': '1435-1', 'name': 'Super Glider', 'type': 'SET', 'category_id': 516}, 'color_id': 2, 'color_name': 'Tan', 'quantity': 15, 'new_or_used': 'U', 'completeness': 'C', 'unit_price': '30.0000', 'bind_id': 0, 'remarks': '', 'bulk': 1, 'is_retain': False, 'is_stock_room': False, 'date_created': '2024-11-15T12:02:00.000Z', 'my_cost': '0.0000', 'sale_rate': 0, 'tier_quantity1': 0, 'tier_price1': '0.0000', 'tier_quantity2': 0, 'tier_price2': '0.0000', 'tier_quantity3': 0, 'tier_price3': '0.0000', 'my_weight': '0.0000'}\n"
     ]
    }
   ],
   "source": [
    "print(new_item)"
   ]
  },
  {
   "cell_type": "code",
   "execution_count": 42,
   "metadata": {},
   "outputs": [
    {
     "name": "stdout",
     "output_type": "stream",
     "text": [
      "Item with inventory ID 442269142 updated successfully.\n"
     ]
    }
   ],
   "source": [
    "def update_item_on_bricklink(inventory_id, quantity, unit_price):\n",
    "    url = f\"https://api.bricklink.com/api/store/v1/inventories/{inventory_id}\"\n",
    "    payload = {\n",
    "        \"quantity\": quantity,\n",
    "        \"unit_price\": f\"{float(unit_price):.4f}\"\n",
    "    }\n",
    "    response = requests.put(url, json=payload, auth=auth)\n",
    "    if response.status_code == 200:\n",
    "        print(f\"Item with inventory ID {inventory_id} updated successfully.\")\n",
    "    else:\n",
    "        print(f\"Error updating item {inventory_id}: {response.status_code}, {response.json()}\")\n",
    "\n",
    "# Example Usage\n",
    "update_item_on_bricklink(442269142, 30, 25.0)  # Updates quantity to 10 and price to 15.00\n"
   ]
  },
  {
   "cell_type": "code",
   "execution_count": 43,
   "metadata": {},
   "outputs": [],
   "source": [
    "inventory = fetch_bricklink_inventory()\n"
   ]
  },
  {
   "cell_type": "code",
   "execution_count": 44,
   "metadata": {},
   "outputs": [],
   "source": [
    "new_item = next((item for item in inventory if item['inventory_id'] == 442269142), None)\n"
   ]
  },
  {
   "cell_type": "code",
   "execution_count": 45,
   "metadata": {},
   "outputs": [
    {
     "name": "stdout",
     "output_type": "stream",
     "text": [
      "{'inventory_id': 442269142, 'item': {'no': '1435-1', 'name': 'Super Glider', 'type': 'SET', 'category_id': 516}, 'color_id': 0, 'color_name': '(Not Applicable)', 'quantity': 35, 'new_or_used': 'U', 'completeness': 'C', 'unit_price': '25.0000', 'bind_id': 0, 'remarks': '', 'bulk': 1, 'is_retain': False, 'is_stock_room': False, 'date_created': '2024-11-15T11:53:00.000Z', 'my_cost': '0.0000', 'sale_rate': 0, 'tier_quantity1': 0, 'tier_price1': '0.0000', 'tier_quantity2': 0, 'tier_price2': '0.0000', 'tier_quantity3': 0, 'tier_price3': '0.0000', 'my_weight': '0.0000'}\n"
     ]
    }
   ],
   "source": [
    "print(new_item)"
   ]
  },
  {
   "cell_type": "code",
   "execution_count": null,
   "metadata": {},
   "outputs": [],
   "source": [
    "# add_item_to_brickowl(new_item['item']['no'], new_item['quantity'], new_item['unit_price'])\n"
   ]
  },
  {
   "cell_type": "code",
   "execution_count": null,
   "metadata": {},
   "outputs": [
    {
     "name": "stdout",
     "output_type": "stream",
     "text": [
      "10\n"
     ]
    }
   ],
   "source": [
    "a=0o10\n",
    "print(a)"
   ]
  },
  {
   "cell_type": "code",
   "execution_count": 7,
   "metadata": {},
   "outputs": [
    {
     "name": "stdout",
     "output_type": "stream",
     "text": [
      "Inventory ID: 442269142\n",
      "Inventory Details: {'inventory_id': 442269142, 'item': {'no': '1435-1', 'name': 'Super Glider', 'type': 'SET', 'category_id': 516}, 'color_id': 0, 'color_name': '(Not Applicable)', 'quantity': 65, 'new_or_used': 'U', 'completeness': 'C', 'unit_price': '25.0000', 'bind_id': 0, 'remarks': '', 'bulk': 1, 'is_retain': False, 'is_stock_room': False, 'date_created': '2024-11-15T11:53:00.000Z', 'my_cost': '0.0000', 'sale_rate': 0, 'tier_quantity1': 0, 'tier_price1': '0.0000', 'tier_quantity2': 0, 'tier_price2': '0.0000', 'tier_quantity3': 0, 'tier_price3': '0.0000', 'my_weight': '0.0000'}\n"
     ]
    },
    {
     "data": {
      "text/plain": [
       "(442269142,\n",
       " {'inventory_id': 442269142,\n",
       "  'item': {'no': '1435-1',\n",
       "   'name': 'Super Glider',\n",
       "   'type': 'SET',\n",
       "   'category_id': 516},\n",
       "  'color_id': 0,\n",
       "  'color_name': '(Not Applicable)',\n",
       "  'quantity': 65,\n",
       "  'new_or_used': 'U',\n",
       "  'completeness': 'C',\n",
       "  'unit_price': '25.0000',\n",
       "  'bind_id': 0,\n",
       "  'remarks': '',\n",
       "  'bulk': 1,\n",
       "  'is_retain': False,\n",
       "  'is_stock_room': False,\n",
       "  'date_created': '2024-11-15T11:53:00.000Z',\n",
       "  'my_cost': '0.0000',\n",
       "  'sale_rate': 0,\n",
       "  'tier_quantity1': 0,\n",
       "  'tier_price1': '0.0000',\n",
       "  'tier_quantity2': 0,\n",
       "  'tier_price2': '0.0000',\n",
       "  'tier_quantity3': 0,\n",
       "  'tier_price3': '0.0000',\n",
       "  'my_weight': '0.0000'})"
      ]
     },
     "execution_count": 7,
     "metadata": {},
     "output_type": "execute_result"
    }
   ],
   "source": [
    "def get_inventory_id(item_no):\n",
    "    url = \"https://api.bricklink.com/api/store/v1/inventories\"\n",
    "    response = requests.get(url, auth=auth)\n",
    "    \n",
    "    if response.status_code == 200:\n",
    "        inventories = response.json()['data']\n",
    "        for inventory in inventories:\n",
    "            if inventory['item']['no'] == item_no:\n",
    "                return inventory['inventory_id'], inventory\n",
    "        return None, None  # If the item is not found\n",
    "    else:\n",
    "        print(f\"Error retrieving inventory: {response.status_code}, {response.text}\")\n",
    "        return None, None\n",
    "\n",
    "# Example Usage\n",
    "inventory_id, inventory_details = get_inventory_id(\"1435-1\")\n",
    "if inventory_id:\n",
    "    print(f\"Inventory ID: {inventory_id}\")\n",
    "    print(\"Inventory Details:\", inventory_details)\n",
    "else:\n",
    "    print(\"Item not found in inventory.\")\n",
    "\n",
    "get_inventory_id(\"1435-1\")"
   ]
  },
  {
   "cell_type": "code",
   "execution_count": 12,
   "metadata": {},
   "outputs": [
    {
     "name": "stdout",
     "output_type": "stream",
     "text": [
      "[]\n",
      "Orders fetched successfully.\n",
      "No orders fetched or an error occurred.\n"
     ]
    }
   ],
   "source": [
    "def fetch_brickowl_orders():\n",
    "    url = f\"https://api.brickowl.com/v1/order/list?key=8245b56a4db48751882052166a763cdc617a532de0fab7c8f2521fc376de5b7d\"\n",
    "\n",
    "    try:\n",
    "        response = requests.get(url)\n",
    "        print(response.text)\n",
    "\n",
    "        if response.status_code == 200:\n",
    "            print(\"Orders fetched successfully.\")\n",
    "            return response.json()  # Returns the list of orders\n",
    "        else:\n",
    "            print(f\"Error fetching orders: {response.status_code}, {response.text}\")\n",
    "            return []\n",
    "    except requests.RequestException as e:\n",
    "        print(f\"Error: {e}\")\n",
    "        return []\n",
    "\n",
    "# Example Usage\n",
    "if __name__ == \"__main__\":\n",
    "    orders = fetch_brickowl_orders()\n",
    "    if orders:\n",
    "        print(f\"Fetched {len(orders)} orders.\")\n",
    "        print(orders)\n",
    "    else:\n",
    "        print(\"No orders fetched or an error occurred.\")"
   ]
  },
  {
   "cell_type": "code",
   "execution_count": null,
   "metadata": {},
   "outputs": [],
   "source": []
  }
 ],
 "metadata": {
  "kernelspec": {
   "display_name": "lego",
   "language": "python",
   "name": "python3"
  },
  "language_info": {
   "codemirror_mode": {
    "name": "ipython",
    "version": 3
   },
   "file_extension": ".py",
   "mimetype": "text/x-python",
   "name": "python",
   "nbconvert_exporter": "python",
   "pygments_lexer": "ipython3",
   "version": "3.11.9"
  }
 },
 "nbformat": 4,
 "nbformat_minor": 2
}
